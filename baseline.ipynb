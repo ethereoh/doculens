{
 "cells": [
  {
   "cell_type": "code",
   "execution_count": 1,
   "metadata": {},
   "outputs": [
    {
     "name": "stderr",
     "output_type": "stream",
     "text": [
      "/home/octoopt/anaconda3/envs/rag/lib/python3.12/site-packages/sentence_transformers/cross_encoder/CrossEncoder.py:13: TqdmWarning: IProgress not found. Please update jupyter and ipywidgets. See https://ipywidgets.readthedocs.io/en/stable/user_install.html\n",
      "  from tqdm.autonotebook import tqdm, trange\n"
     ]
    }
   ],
   "source": [
    "!pip install -q pymilvus sentence-transformers transformers"
   ]
  },
  {
   "cell_type": "code",
   "execution_count": 1,
   "metadata": {},
   "outputs": [
    {
     "name": "stderr",
     "output_type": "stream",
     "text": [
      "/home/octoopt/anaconda3/envs/rag/lib/python3.12/site-packages/tqdm/auto.py:21: TqdmWarning: IProgress not found. Please update jupyter and ipywidgets. See https://ipywidgets.readthedocs.io/en/stable/user_install.html\n",
      "  from .autonotebook import tqdm as notebook_tqdm\n",
      "/home/octoopt/anaconda3/envs/rag/lib/python3.12/site-packages/transformers/tokenization_utils_base.py:1601: FutureWarning: `clean_up_tokenization_spaces` was not set. It will be set to `True` by default. This behavior will be depracted in transformers v4.45, and will be then set to `False` by default. For more details check this issue: https://github.com/huggingface/transformers/issues/31884\n",
      "  warnings.warn(\n"
     ]
    }
   ],
   "source": [
    "import pandas as pd\n",
    "\n",
    "\n",
    "import pymilvus\n",
    "\n",
    "from transformers import AutoTokenizer, AutoModel\n",
    "import torch\n",
    "\n",
    "device = 'cuda' if torch.cuda.is_available() else 'cpu'\n",
    "\n",
    "#Mean Pooling - Take attention mask into account for correct averaging\n",
    "def mean_pooling(model_output, attention_mask):\n",
    "    token_embeddings = model_output[0] #First element of model_output contains all token embeddings\n",
    "    input_mask_expanded = attention_mask.unsqueeze(-1).expand(token_embeddings.size()).float()\n",
    "    return torch.sum(token_embeddings * input_mask_expanded, 1) / torch.clamp(input_mask_expanded.sum(1), min=1e-9)\n",
    "\n",
    "# Load model from HuggingFace Hub\n",
    "tokenizer = AutoTokenizer.from_pretrained('keepitreal/vietnamese-sbert')\n",
    "model = AutoModel.from_pretrained('keepitreal/vietnamese-sbert').to(device)"
   ]
  },
  {
   "cell_type": "code",
   "execution_count": 2,
   "metadata": {},
   "outputs": [
    {
     "data": {
      "text/plain": [
       "Index(['question', 'context', 'cid', 'qid'], dtype='object')"
      ]
     },
     "execution_count": 2,
     "metadata": {},
     "output_type": "execute_result"
    }
   ],
   "source": [
    "dataset_root = './dataset'\n",
    "dataset_dir = {\n",
    "    'corpus': f\"{dataset_root}/corpus.csv\", \n",
    "    'train': f\"{dataset_root}/train.csv\", \n",
    "    'preprocessed': f\"{dataset_root}/preprocessed_train.csv\", \n",
    "    'test': f\"{dataset_root}/public_test.csv\", \n",
    "}\n",
    "\n",
    "prc_train_df = pd.read_csv(dataset_dir['preprocessed'])\n",
    "prc_train_df.columns"
   ]
  },
  {
   "cell_type": "code",
   "execution_count": 3,
   "metadata": {},
   "outputs": [
    {
     "data": {
      "text/html": [
       "<div>\n",
       "<style scoped>\n",
       "    .dataframe tbody tr th:only-of-type {\n",
       "        vertical-align: middle;\n",
       "    }\n",
       "\n",
       "    .dataframe tbody tr th {\n",
       "        vertical-align: top;\n",
       "    }\n",
       "\n",
       "    .dataframe thead th {\n",
       "        text-align: right;\n",
       "    }\n",
       "</style>\n",
       "<table border=\"1\" class=\"dataframe\">\n",
       "  <thead>\n",
       "    <tr style=\"text-align: right;\">\n",
       "      <th></th>\n",
       "      <th>question</th>\n",
       "      <th>context</th>\n",
       "      <th>cid</th>\n",
       "      <th>qid</th>\n",
       "    </tr>\n",
       "  </thead>\n",
       "  <tbody>\n",
       "    <tr>\n",
       "      <th>0</th>\n",
       "      <td>Người học ngành quản lý khai thác công trình t...</td>\n",
       "      <td>Khả năng học tập, nâng cao trình độ\\n- Khối lư...</td>\n",
       "      <td>62492</td>\n",
       "      <td>161615</td>\n",
       "    </tr>\n",
       "    <tr>\n",
       "      <th>1</th>\n",
       "      <td>Nội dung lồng ghép vấn đề bình đẳng giới trong...</td>\n",
       "      <td>Nội dung lồng ghép vấn đề bình đẳng giới trong...</td>\n",
       "      <td>151154</td>\n",
       "      <td>80037</td>\n",
       "    </tr>\n",
       "    <tr>\n",
       "      <th>2</th>\n",
       "      <td>Sản phẩm phần mềm có được hưởng ưu đãi về thời...</td>\n",
       "      <td>Điều 20. Ưu đãi về thời gian miễn thuế, giảm t...</td>\n",
       "      <td>75071</td>\n",
       "      <td>124074</td>\n",
       "    </tr>\n",
       "    <tr>\n",
       "      <th>3</th>\n",
       "      <td>Điều kiện để giáo viên trong cơ sở giáo dục mầ...</td>\n",
       "      <td>Điều kiện được hưởng\\nCán bộ quản lý, giáo viê...</td>\n",
       "      <td>225897</td>\n",
       "      <td>146841</td>\n",
       "    </tr>\n",
       "    <tr>\n",
       "      <th>4</th>\n",
       "      <td>Nguyên tắc áp dụng phụ cấp ưu đãi nghề y tế th...</td>\n",
       "      <td>Nguyên tắc áp dụng\\n1. Trường hợp công chức, v...</td>\n",
       "      <td>68365</td>\n",
       "      <td>6176</td>\n",
       "    </tr>\n",
       "  </tbody>\n",
       "</table>\n",
       "</div>"
      ],
      "text/plain": [
       "                                            question  \\\n",
       "0  Người học ngành quản lý khai thác công trình t...   \n",
       "1  Nội dung lồng ghép vấn đề bình đẳng giới trong...   \n",
       "2  Sản phẩm phần mềm có được hưởng ưu đãi về thời...   \n",
       "3  Điều kiện để giáo viên trong cơ sở giáo dục mầ...   \n",
       "4  Nguyên tắc áp dụng phụ cấp ưu đãi nghề y tế th...   \n",
       "\n",
       "                                             context     cid     qid  \n",
       "0  Khả năng học tập, nâng cao trình độ\\n- Khối lư...   62492  161615  \n",
       "1  Nội dung lồng ghép vấn đề bình đẳng giới trong...  151154   80037  \n",
       "2  Điều 20. Ưu đãi về thời gian miễn thuế, giảm t...   75071  124074  \n",
       "3  Điều kiện được hưởng\\nCán bộ quản lý, giáo viê...  225897  146841  \n",
       "4  Nguyên tắc áp dụng\\n1. Trường hợp công chức, v...   68365    6176  "
      ]
     },
     "execution_count": 3,
     "metadata": {},
     "output_type": "execute_result"
    }
   ],
   "source": [
    "prc_train_df.head()"
   ]
  },
  {
   "cell_type": "markdown",
   "metadata": {},
   "source": [
    "# Embedding vector"
   ]
  },
  {
   "cell_type": "code",
   "execution_count": 4,
   "metadata": {},
   "outputs": [
    {
     "data": {
      "text/html": [
       "<div>\n",
       "<style scoped>\n",
       "    .dataframe tbody tr th:only-of-type {\n",
       "        vertical-align: middle;\n",
       "    }\n",
       "\n",
       "    .dataframe tbody tr th {\n",
       "        vertical-align: top;\n",
       "    }\n",
       "\n",
       "    .dataframe thead th {\n",
       "        text-align: right;\n",
       "    }\n",
       "</style>\n",
       "<table border=\"1\" class=\"dataframe\">\n",
       "  <thead>\n",
       "    <tr style=\"text-align: right;\">\n",
       "      <th></th>\n",
       "      <th>question</th>\n",
       "      <th>context</th>\n",
       "      <th>cid</th>\n",
       "      <th>qid</th>\n",
       "      <th>qa_sentence</th>\n",
       "    </tr>\n",
       "  </thead>\n",
       "  <tbody>\n",
       "    <tr>\n",
       "      <th>0</th>\n",
       "      <td>Người học ngành quản lý khai thác công trình t...</td>\n",
       "      <td>Khả năng học tập, nâng cao trình độ\\n- Khối lư...</td>\n",
       "      <td>62492</td>\n",
       "      <td>161615</td>\n",
       "      <td>Người học ngành quản lý khai thác công trình t...</td>\n",
       "    </tr>\n",
       "    <tr>\n",
       "      <th>1</th>\n",
       "      <td>Nội dung lồng ghép vấn đề bình đẳng giới trong...</td>\n",
       "      <td>Nội dung lồng ghép vấn đề bình đẳng giới trong...</td>\n",
       "      <td>151154</td>\n",
       "      <td>80037</td>\n",
       "      <td>Nội dung lồng ghép vấn đề bình đẳng giới trong...</td>\n",
       "    </tr>\n",
       "    <tr>\n",
       "      <th>2</th>\n",
       "      <td>Sản phẩm phần mềm có được hưởng ưu đãi về thời...</td>\n",
       "      <td>Điều 20. Ưu đãi về thời gian miễn thuế, giảm t...</td>\n",
       "      <td>75071</td>\n",
       "      <td>124074</td>\n",
       "      <td>Sản phẩm phần mềm có được hưởng ưu đãi về thời...</td>\n",
       "    </tr>\n",
       "    <tr>\n",
       "      <th>3</th>\n",
       "      <td>Điều kiện để giáo viên trong cơ sở giáo dục mầ...</td>\n",
       "      <td>Điều kiện được hưởng\\nCán bộ quản lý, giáo viê...</td>\n",
       "      <td>225897</td>\n",
       "      <td>146841</td>\n",
       "      <td>Điều kiện để giáo viên trong cơ sở giáo dục mầ...</td>\n",
       "    </tr>\n",
       "    <tr>\n",
       "      <th>4</th>\n",
       "      <td>Nguyên tắc áp dụng phụ cấp ưu đãi nghề y tế th...</td>\n",
       "      <td>Nguyên tắc áp dụng\\n1. Trường hợp công chức, v...</td>\n",
       "      <td>68365</td>\n",
       "      <td>6176</td>\n",
       "      <td>Nguyên tắc áp dụng phụ cấp ưu đãi nghề y tế th...</td>\n",
       "    </tr>\n",
       "  </tbody>\n",
       "</table>\n",
       "</div>"
      ],
      "text/plain": [
       "                                            question  \\\n",
       "0  Người học ngành quản lý khai thác công trình t...   \n",
       "1  Nội dung lồng ghép vấn đề bình đẳng giới trong...   \n",
       "2  Sản phẩm phần mềm có được hưởng ưu đãi về thời...   \n",
       "3  Điều kiện để giáo viên trong cơ sở giáo dục mầ...   \n",
       "4  Nguyên tắc áp dụng phụ cấp ưu đãi nghề y tế th...   \n",
       "\n",
       "                                             context     cid     qid  \\\n",
       "0  Khả năng học tập, nâng cao trình độ\\n- Khối lư...   62492  161615   \n",
       "1  Nội dung lồng ghép vấn đề bình đẳng giới trong...  151154   80037   \n",
       "2  Điều 20. Ưu đãi về thời gian miễn thuế, giảm t...   75071  124074   \n",
       "3  Điều kiện được hưởng\\nCán bộ quản lý, giáo viê...  225897  146841   \n",
       "4  Nguyên tắc áp dụng\\n1. Trường hợp công chức, v...   68365    6176   \n",
       "\n",
       "                                         qa_sentence  \n",
       "0  Người học ngành quản lý khai thác công trình t...  \n",
       "1  Nội dung lồng ghép vấn đề bình đẳng giới trong...  \n",
       "2  Sản phẩm phần mềm có được hưởng ưu đãi về thời...  \n",
       "3  Điều kiện để giáo viên trong cơ sở giáo dục mầ...  \n",
       "4  Nguyên tắc áp dụng phụ cấp ưu đãi nghề y tế th...  "
      ]
     },
     "execution_count": 4,
     "metadata": {},
     "output_type": "execute_result"
    }
   ],
   "source": [
    "# Merge question and context into a full sentence of question-answering\n",
    "\n",
    "prc_train_df['qa_sentence'] = prc_train_df['question'] + \" \" + prc_train_df['context']\n",
    "prc_train_df.head()"
   ]
  },
  {
   "cell_type": "code",
   "execution_count": 5,
   "metadata": {},
   "outputs": [],
   "source": [
    "def process_data_in_batches(df, batch_size=10000):\n",
    "  \"\"\"Processes data in batches.\n",
    "\n",
    "  Args:\n",
    "    df: The Pandas DataFrame to process.\n",
    "    batch_size: The number of rows to process in each batch.\n",
    "\n",
    "  Yields:\n",
    "    A generator that yields batches of the DataFrame.\n",
    "  \"\"\"\n",
    "  for i in range(0, len(df), batch_size):\n",
    "    yield df[i:i + batch_size]\n"
   ]
  },
  {
   "cell_type": "code",
   "execution_count": 5,
   "metadata": {},
   "outputs": [
    {
     "name": "stdout",
     "output_type": "stream",
     "text": [
      "133568\n"
     ]
    }
   ],
   "source": [
    "qa_sentence = prc_train_df['qa_sentence'].tolist()\n",
    "print(len(qa_sentence))"
   ]
  },
  {
   "cell_type": "code",
   "execution_count": null,
   "metadata": {},
   "outputs": [],
   "source": [
    "from copy import deepcopy\n",
    "\n",
    "df_copy = deepcopy(prc_train_df)\n",
    "embeddings = []\n",
    "idx = 0\n",
    "for batch in process_data_in_batches(df_copy, batch_size=1000):\n",
    "    qa_sentence = batch['qa_sentence'].tolist()\n",
    "    print(len(qa_sentence))\n",
    "    # Tokenize sentences\n",
    "    encoded_input = tokenizer(qa_sentence, padding=True, truncation=True, return_tensors='pt').to(device)\n",
    "\n",
    "    # Compute token embeddings\n",
    "    with torch.no_grad():\n",
    "        model_output = model(**encoded_input)\n",
    "\n",
    "    # Perform pooling. In this case, mean pooling.\n",
    "    sentence_embeddings = mean_pooling(model_output, encoded_input['attention_mask']).detach().cpu().numpy()\n",
    "\n",
    "    for sentence, embedding in zip(qa_sentence, sentence_embeddings):\n",
    "        embeddings.append(embedding)\n",
    "\n",
    "print(len(embeddings))"
   ]
  },
  {
   "cell_type": "markdown",
   "metadata": {},
   "source": [
    "# Insert Database into Milvus"
   ]
  },
  {
   "cell_type": "code",
   "execution_count": 28,
   "metadata": {},
   "outputs": [
    {
     "data": {
      "text/plain": [
       "Index(['question', 'context', 'cid', 'qid', 'qa_sentence', 'embeddings'], dtype='object')"
      ]
     },
     "execution_count": 28,
     "metadata": {},
     "output_type": "execute_result"
    }
   ],
   "source": [
    "vector_df = pd.read_csv(f'{dataset_root}/vector_db_source.csv', index_col=0)\n",
    "vector_df.columns"
   ]
  },
  {
   "cell_type": "code",
   "execution_count": 29,
   "metadata": {},
   "outputs": [
    {
     "name": "stdout",
     "output_type": "stream",
     "text": [
      "Total embedded vectors: 133568\n",
      "Total lengeth of each vector: 12480\n"
     ]
    }
   ],
   "source": [
    "print(f\"Total embedded vectors: {len(vector_df['embeddings'])}\")\n",
    "print(f\"Total lengeth of each vector: {len(vector_df['embeddings'][0])}\")"
   ]
  },
  {
   "cell_type": "code",
   "execution_count": 30,
   "metadata": {},
   "outputs": [],
   "source": [
    "def convert_string_to_float_df(sample): \n",
    "    # Remove quotes and square brackets\n",
    "    string = sample[1:-1]  # Remove the first and last characters\n",
    "\n",
    "    # Split the string into a list of strings\n",
    "    float_strings = string.split()\n",
    "\n",
    "    # Convert each string to a float\n",
    "    float_list = [float(s) for s in float_strings]\n",
    "\n",
    "    return float_list"
   ]
  },
  {
   "cell_type": "code",
   "execution_count": 31,
   "metadata": {},
   "outputs": [
    {
     "data": {
      "text/plain": [
       "Index(['question', 'context', 'cid', 'qid', 'qa_sentence', 'embeddings'], dtype='object')"
      ]
     },
     "execution_count": 31,
     "metadata": {},
     "output_type": "execute_result"
    }
   ],
   "source": [
    "from copy import deepcopy\n",
    "\n",
    "vector_df_copy = deepcopy(vector_df)\n",
    "\n",
    "vector_df_copy['embeddings'] = vector_df_copy['embeddings'].apply(lambda x: convert_string_to_float_df(x))\n",
    "vector_df_copy.columns"
   ]
  },
  {
   "cell_type": "code",
   "execution_count": 39,
   "metadata": {},
   "outputs": [
    {
     "data": {
      "text/plain": [
       "Index(['question', 'context', 'cid', 'qid', 'qa_sentence', 'embeddings', 'id'], dtype='object')"
      ]
     },
     "execution_count": 39,
     "metadata": {},
     "output_type": "execute_result"
    }
   ],
   "source": [
    "vector_df_copy['id'] = [i for i in range(len(vector_df_copy))]\n",
    "vector_df_copy.columns"
   ]
  },
  {
   "cell_type": "code",
   "execution_count": 32,
   "metadata": {},
   "outputs": [
    {
     "name": "stdout",
     "output_type": "stream",
     "text": [
      "Total embedded vectors: 133568\n",
      "Total lengeth of each vector: 768\n"
     ]
    }
   ],
   "source": [
    "print(f\"Total embedded vectors: {len(vector_df_copy['embeddings'])}\")\n",
    "print(f\"Total lengeth of each vector: {len(vector_df_copy['embeddings'][0])}\")"
   ]
  },
  {
   "cell_type": "code",
   "execution_count": 66,
   "metadata": {},
   "outputs": [
    {
     "name": "stdout",
     "output_type": "stream",
     "text": [
      "2.4.8\n"
     ]
    }
   ],
   "source": [
    "from pymilvus import __version__\n",
    "\n",
    "print(__version__)"
   ]
  },
  {
   "cell_type": "code",
   "execution_count": 10,
   "metadata": {},
   "outputs": [],
   "source": [
    "from pymilvus import MilvusClient\n",
    "\n",
    "client = MilvusClient(\"./milvus_demo.db\")"
   ]
  },
  {
   "cell_type": "code",
   "execution_count": 69,
   "metadata": {},
   "outputs": [],
   "source": [
    "client.drop_collection(collection_name='bkai_vectordb')"
   ]
  },
  {
   "cell_type": "code",
   "execution_count": 70,
   "metadata": {},
   "outputs": [],
   "source": [
    "client.create_collection(\n",
    "    collection_name=\"bkai_vectordb\",\n",
    "    dimension=768,\n",
    "    primary_field_name=\"id\",\n",
    "    id_type=\"int\",\n",
    "    vector_field_name=\"embeddings\",\n",
    "    metric_type=\"L2\",\n",
    "    auto_id=False,\n",
    "    max_length=768\n",
    ")"
   ]
  },
  {
   "cell_type": "code",
   "execution_count": 71,
   "metadata": {},
   "outputs": [
    {
     "name": "stdout",
     "output_type": "stream",
     "text": [
      "0 1000\n",
      "1 1000\n",
      "2 1000\n",
      "3 1000\n",
      "4 1000\n",
      "5 1000\n",
      "6 1000\n",
      "7 1000\n",
      "8 1000\n",
      "9 1000\n",
      "10 1000\n",
      "11 1000\n",
      "12 1000\n",
      "13 1000\n",
      "14 1000\n",
      "15 1000\n",
      "16 1000\n",
      "17 1000\n",
      "18 1000\n",
      "19 1000\n",
      "20 1000\n",
      "21 1000\n",
      "22 1000\n",
      "23 1000\n",
      "24 1000\n",
      "25 1000\n",
      "26 1000\n",
      "27 1000\n",
      "28 1000\n",
      "29 1000\n",
      "30 1000\n",
      "31 1000\n",
      "32 1000\n",
      "33 1000\n",
      "34 1000\n",
      "35 1000\n",
      "36 1000\n",
      "37 1000\n",
      "38 1000\n",
      "39 1000\n",
      "40 1000\n",
      "41 1000\n",
      "42 1000\n",
      "43 1000\n",
      "44 1000\n",
      "45 1000\n",
      "46 1000\n",
      "47 1000\n",
      "48 1000\n",
      "49 1000\n",
      "50 1000\n",
      "51 1000\n",
      "52 1000\n",
      "53 1000\n",
      "54 1000\n",
      "55 1000\n",
      "56 1000\n",
      "57 1000\n",
      "58 1000\n",
      "59 1000\n",
      "60 1000\n",
      "61 1000\n",
      "62 1000\n",
      "63 1000\n",
      "64 1000\n",
      "65 1000\n",
      "66 1000\n",
      "67 1000\n",
      "68 1000\n",
      "69 1000\n",
      "70 1000\n",
      "71 1000\n",
      "72 1000\n",
      "73 1000\n",
      "74 1000\n",
      "75 1000\n",
      "76 1000\n",
      "77 1000\n",
      "78 1000\n",
      "79 1000\n",
      "80 1000\n",
      "81 1000\n",
      "82 1000\n",
      "83 1000\n",
      "84 1000\n",
      "85 1000\n",
      "86 1000\n",
      "87 1000\n",
      "88 1000\n",
      "89 1000\n",
      "90 1000\n",
      "91 1000\n",
      "92 1000\n",
      "93 1000\n",
      "94 1000\n",
      "95 1000\n",
      "96 1000\n",
      "97 1000\n",
      "98 1000\n",
      "99 1000\n",
      "100 1000\n",
      "101 1000\n",
      "102 1000\n",
      "103 1000\n",
      "104 1000\n",
      "105 1000\n",
      "106 1000\n",
      "107 1000\n",
      "108 1000\n",
      "109 1000\n",
      "110 1000\n",
      "111 1000\n",
      "112 1000\n",
      "113 1000\n",
      "114 1000\n",
      "115 1000\n",
      "116 1000\n",
      "117 1000\n",
      "118 1000\n",
      "119 1000\n",
      "120 1000\n",
      "121 1000\n",
      "122 1000\n",
      "123 1000\n",
      "124 1000\n",
      "125 1000\n",
      "126 1000\n",
      "127 1000\n",
      "128 1000\n",
      "129 1000\n",
      "130 1000\n",
      "131 1000\n",
      "132 1000\n",
      "133 568\n",
      "Finish\n"
     ]
    }
   ],
   "source": [
    "# Divide the whole dataset into batches\n",
    "\n",
    "idx = 0\n",
    "for batch in process_data_in_batches(vector_df_copy, batch_size=1000):\n",
    "    print(idx, len(batch))\n",
    "    data = [batch.iloc[idx].to_dict() for idx in range(len(batch))]\n",
    "    # 2. Insert a record\n",
    "    res = client.insert(\n",
    "        collection_name=\"bkai_vectordb\",\n",
    "        data=data\n",
    "    )\n",
    "    idx += 1\n",
    "print('Finish')"
   ]
  },
  {
   "cell_type": "markdown",
   "metadata": {},
   "source": [
    "# Inference"
   ]
  },
  {
   "cell_type": "code",
   "execution_count": 72,
   "metadata": {},
   "outputs": [
    {
     "data": {
      "text/html": [
       "<div>\n",
       "<style scoped>\n",
       "    .dataframe tbody tr th:only-of-type {\n",
       "        vertical-align: middle;\n",
       "    }\n",
       "\n",
       "    .dataframe tbody tr th {\n",
       "        vertical-align: top;\n",
       "    }\n",
       "\n",
       "    .dataframe thead th {\n",
       "        text-align: right;\n",
       "    }\n",
       "</style>\n",
       "<table border=\"1\" class=\"dataframe\">\n",
       "  <thead>\n",
       "    <tr style=\"text-align: right;\">\n",
       "      <th></th>\n",
       "      <th>question</th>\n",
       "      <th>qid</th>\n",
       "    </tr>\n",
       "  </thead>\n",
       "  <tbody>\n",
       "    <tr>\n",
       "      <th>0</th>\n",
       "      <td>Hiệp hội Công nghiệp ghi âm Việt Nam hoạt động...</td>\n",
       "      <td>98440</td>\n",
       "    </tr>\n",
       "    <tr>\n",
       "      <th>1</th>\n",
       "      <td>Báo cáo nghiên cứu khả thi đầu tư xây dựng là ...</td>\n",
       "      <td>105737</td>\n",
       "    </tr>\n",
       "    <tr>\n",
       "      <th>2</th>\n",
       "      <td>Lịch khai giảng năm học 2022 - 2023 đối với họ...</td>\n",
       "      <td>106239</td>\n",
       "    </tr>\n",
       "    <tr>\n",
       "      <th>3</th>\n",
       "      <td>Số định danh cá nhân có được dùng thay thế các...</td>\n",
       "      <td>79491</td>\n",
       "    </tr>\n",
       "    <tr>\n",
       "      <th>4</th>\n",
       "      <td>Trợ cấp đối với Chủ tịch Hội cựu chiến binh cấ...</td>\n",
       "      <td>130557</td>\n",
       "    </tr>\n",
       "  </tbody>\n",
       "</table>\n",
       "</div>"
      ],
      "text/plain": [
       "                                            question     qid\n",
       "0  Hiệp hội Công nghiệp ghi âm Việt Nam hoạt động...   98440\n",
       "1  Báo cáo nghiên cứu khả thi đầu tư xây dựng là ...  105737\n",
       "2  Lịch khai giảng năm học 2022 - 2023 đối với họ...  106239\n",
       "3  Số định danh cá nhân có được dùng thay thế các...   79491\n",
       "4  Trợ cấp đối với Chủ tịch Hội cựu chiến binh cấ...  130557"
      ]
     },
     "execution_count": 72,
     "metadata": {},
     "output_type": "execute_result"
    }
   ],
   "source": [
    "test_df = pd.read_csv(dataset_dir['test'])\n",
    "test_df.head()"
   ]
  },
  {
   "cell_type": "code",
   "execution_count": 73,
   "metadata": {},
   "outputs": [],
   "source": [
    "prompt = test_df.iloc[0]['question']\n",
    "\n",
    "encoded_input = tokenizer(prompt, padding=True, truncation=True, return_tensors='pt').to(device)\n",
    "\n",
    "# Compute token embeddings\n",
    "with torch.no_grad():\n",
    "    model_output = model(**encoded_input)\n",
    "\n",
    "# Perform pooling. In this case, mean pooling.\n",
    "sentence_embedding = mean_pooling(model_output, encoded_input['attention_mask']).detach().cpu().numpy()"
   ]
  },
  {
   "cell_type": "code",
   "execution_count": 74,
   "metadata": {},
   "outputs": [
    {
     "data": {
      "text/plain": [
       "array([[ 7.31994910e-03,  1.40865996e-01, -9.59775934e-04,\n",
       "        -2.10210428e-01,  4.22635943e-01,  6.65427983e-01,\n",
       "        -1.98055968e-01,  1.92148402e-01, -1.72215283e-01,\n",
       "         2.17930466e-01,  1.59431070e-01,  1.43577099e-01,\n",
       "         6.04931414e-01, -2.22751265e-03, -2.78937947e-02,\n",
       "         2.19161227e-01,  3.12417269e-01, -8.97035934e-03,\n",
       "         5.70143759e-02, -1.71511531e-01,  2.14563519e-01,\n",
       "         4.49207008e-01,  2.71661192e-01,  1.73510775e-01,\n",
       "        -2.17540666e-01,  2.85483450e-01,  3.42878044e-01,\n",
       "         1.03309810e-01, -1.75041854e-01,  4.61441189e-01,\n",
       "        -3.35438967e-01,  2.56961882e-01,  1.69644877e-01,\n",
       "        -7.23919272e-01,  2.82167271e-03,  6.33383915e-02,\n",
       "        -1.51719272e-01,  5.78777254e-01,  1.31913945e-01,\n",
       "         2.10182101e-01,  1.37827754e-01, -2.39302337e-01,\n",
       "         7.96478748e-01,  5.08418024e-01, -3.90665054e-01,\n",
       "         2.97375828e-01,  4.39052135e-02, -5.29473543e-01,\n",
       "         5.33862233e-01,  1.80093974e-01, -4.48313355e-01,\n",
       "        -3.94856520e-02,  1.36728704e-01,  4.80879039e-01,\n",
       "         5.64761721e-02,  2.69606978e-01, -7.17610195e-02,\n",
       "        -1.25859186e-01, -2.65044063e-01,  1.49072871e-01,\n",
       "        -3.11100900e-01,  5.64150105e-04, -7.58767486e-01,\n",
       "         3.19820136e-01,  2.01967716e-01, -6.79517761e-02,\n",
       "         5.46671808e-01,  4.33564574e-01,  2.18285158e-01,\n",
       "        -3.87414843e-01,  2.45174006e-01, -3.69949847e-01,\n",
       "        -2.23534070e-02, -4.98446226e-01, -1.18953921e-01,\n",
       "         4.26853895e-01,  3.80737275e-01, -2.70395666e-01,\n",
       "        -1.59389913e-01,  6.66155457e-01, -1.57115236e-01,\n",
       "         6.24416649e-01, -2.37594545e-03, -4.40194488e-01,\n",
       "        -1.48092732e-01,  6.99715689e-02, -3.98028165e-01,\n",
       "         2.64702022e-01, -1.96214452e-01, -3.81047815e-01,\n",
       "         3.68826866e-01,  2.78320938e-01,  2.06851751e-01,\n",
       "         3.46552163e-01, -9.29023772e-02, -3.96459013e-01,\n",
       "         1.42076179e-01,  6.03417270e-02, -8.10667217e-01,\n",
       "        -2.84214675e-01,  3.65180001e-02, -7.44069591e-02,\n",
       "         3.49496931e-01,  6.97120205e-02,  3.27110291e-01,\n",
       "         8.30671966e-01,  1.26915470e-01, -4.78805378e-02,\n",
       "         3.18614125e-01, -7.87766635e-01, -3.74615133e-01,\n",
       "         3.83665681e-01,  6.47669435e-02, -1.08398296e-01,\n",
       "         2.35492185e-01,  7.65646026e-02, -2.71575838e-01,\n",
       "        -1.08855985e-01,  9.60994363e-02, -1.49952292e-01,\n",
       "        -8.73836130e-03,  7.16113567e-01,  4.49976057e-01,\n",
       "         5.78821413e-02,  2.06826732e-01, -3.39889601e-02,\n",
       "        -1.61833838e-01, -2.52847344e-01, -2.96053827e-01,\n",
       "         5.11252642e-01,  4.72606309e-02, -1.30876154e-01,\n",
       "        -8.21431503e-02, -3.44581604e-01, -1.13417059e-01,\n",
       "         1.66883513e-01, -1.19377978e-01,  2.29741201e-01,\n",
       "         4.16773528e-01, -5.42418540e-01, -3.71120833e-02,\n",
       "         3.50885130e-02, -8.15160424e-02, -2.55798548e-01,\n",
       "         9.51067805e-02,  5.25178611e-01, -3.65821451e-01,\n",
       "         2.27403536e-01, -4.01071340e-01, -3.45961213e-01,\n",
       "         4.16355789e-01, -2.17753965e-02,  6.48556128e-02,\n",
       "         2.96198428e-01,  2.97207646e-02,  1.06089294e-01,\n",
       "        -4.18644726e-01,  6.68232739e-02,  1.94561109e-01,\n",
       "        -5.54251671e-03, -9.01041254e-02,  1.78468406e-01,\n",
       "        -2.66118467e-01,  2.29555331e-02,  1.43092368e-02,\n",
       "         4.01483625e-01,  3.44348252e-01,  1.28564179e-01,\n",
       "         1.59746796e-01, -1.70803159e-01,  5.24492323e-01,\n",
       "         2.80470103e-01,  2.79797949e-02,  2.64809262e-02,\n",
       "         5.19299030e-01,  8.79909843e-02, -2.17608228e-01,\n",
       "        -1.01671107e-01, -2.47941926e-01,  1.11088574e-01,\n",
       "        -6.76289320e-01, -1.81379199e-01,  1.85674295e-01,\n",
       "        -2.26070955e-02, -1.51762828e-01, -3.26295197e-01,\n",
       "         3.10463682e-02,  1.50144145e-01, -2.39947364e-01,\n",
       "        -5.39132804e-02,  2.23363623e-01, -4.92013037e-01,\n",
       "         5.04475176e-01, -1.13363594e-01, -3.31931710e-01,\n",
       "        -1.33375749e-01,  8.13914239e-02,  4.20091271e-01,\n",
       "        -9.79374573e-02,  3.08381319e-01,  2.39297032e-01,\n",
       "        -2.04922870e-01, -2.96937134e-02, -6.23014271e-01,\n",
       "        -1.83861271e-01,  6.88025296e-01, -2.74005294e-01,\n",
       "         7.81648308e-02,  1.09216869e-01,  2.02358902e-01,\n",
       "        -1.14908606e-01,  6.08568668e-01, -8.14128891e-02,\n",
       "        -5.48961699e-01, -2.08717734e-01,  2.44861972e-02,\n",
       "        -2.12531760e-01, -5.21244884e-01,  3.93308014e-01,\n",
       "         2.92546391e-01,  1.98637769e-02,  3.99278939e-01,\n",
       "        -6.75068617e-01, -1.02296799e-01,  3.88604216e-02,\n",
       "        -6.59911633e-02,  2.52870440e-01, -1.83068767e-01,\n",
       "         2.43103653e-01,  7.21936002e-02,  4.76636179e-02,\n",
       "         3.06504697e-01, -1.51739344e-01, -2.55258352e-01,\n",
       "         2.55126268e-01, -2.51897246e-01,  4.34207916e-01,\n",
       "         1.53255507e-01, -5.76662540e-01,  1.30026102e-01,\n",
       "         4.86284316e-01,  1.57647967e-01,  8.14497411e-01,\n",
       "         2.26623014e-01,  3.71290594e-01, -2.68572211e-01,\n",
       "        -1.15905546e-01,  4.34961505e-02,  5.29158771e-01,\n",
       "         5.41697815e-02, -3.05359781e-01,  4.42938842e-02,\n",
       "         1.05040647e-01, -1.60125852e-01, -5.30333817e-01,\n",
       "         1.06484942e-01,  3.64670992e-01, -2.43328869e-01,\n",
       "        -1.84959862e-02, -7.84685388e-02,  1.92689717e-01,\n",
       "        -6.88211396e-02,  4.43908274e-02,  8.69597942e-02,\n",
       "         1.99418858e-01,  2.97011454e-02,  3.96785140e-01,\n",
       "         3.06102280e-02,  1.38670251e-01, -2.52650291e-01,\n",
       "        -3.59310240e-01,  1.18382985e-03, -4.99404252e-01,\n",
       "         3.61924797e-01, -4.36626136e-01,  1.49696589e-01,\n",
       "         2.92365640e-01,  1.78297132e-01,  8.63171369e-02,\n",
       "         3.68758708e-01,  2.10743308e-01,  5.87670542e-02,\n",
       "        -1.30099893e-01, -1.18244685e-01, -2.20927820e-01,\n",
       "         1.41838461e-01,  2.07303777e-01,  1.39236465e-01,\n",
       "         1.97435811e-01,  1.15378343e-01,  4.82262850e-01,\n",
       "        -1.80797607e-01, -3.79540950e-01,  5.76198585e-02,\n",
       "        -2.49553397e-01,  2.52765775e-01,  1.47347311e-02,\n",
       "        -2.77157694e-01, -9.97156501e-02,  2.22786129e-01,\n",
       "         3.28153044e-01, -1.47839576e-01, -9.63031426e-02,\n",
       "         3.41772348e-01,  5.07416308e-01,  1.36618644e-01,\n",
       "        -5.01210570e-01, -3.54021311e-01, -7.18403757e-02,\n",
       "         8.26075673e-01, -1.10777915e-01,  3.19386721e-01,\n",
       "        -4.85579848e-01,  7.80777559e-02, -1.11595154e-01,\n",
       "         7.84417987e-02,  1.61435694e-01,  2.38138244e-01,\n",
       "         1.10914372e-01, -1.38420284e-01,  6.04707934e-02,\n",
       "        -2.88062572e-01, -1.63014919e-01,  3.99339616e-01,\n",
       "        -1.21841254e-02,  2.47180030e-01, -2.09333792e-01,\n",
       "         6.61839724e-01, -3.60633880e-01,  1.17738597e-01,\n",
       "         1.62294909e-01,  3.16747241e-02,  1.60139710e-01,\n",
       "        -2.22750887e-01,  4.64442044e-01, -1.34781316e-01,\n",
       "         2.49210000e-01, -4.16387320e-02, -1.44066423e-01,\n",
       "         2.91368514e-01, -1.57938808e-01,  1.66975424e-01,\n",
       "         2.65337795e-01,  4.31025952e-01, -5.99270128e-02,\n",
       "         2.01112762e-01, -5.12203984e-02, -3.72555047e-01,\n",
       "         3.82846683e-01, -1.03599150e-02, -4.69162583e-01,\n",
       "         1.89193457e-01, -6.34567738e-02, -2.46264815e-01,\n",
       "        -3.65283906e-01, -6.75575316e-01, -1.66250899e-01,\n",
       "        -2.61479914e-02,  2.07767770e-01,  1.50822893e-01,\n",
       "        -2.24507377e-01, -9.01023820e-02, -2.59832088e-02,\n",
       "        -2.85406500e-01,  1.95118532e-01,  8.74945745e-02,\n",
       "         4.90923412e-02, -8.62683535e-01,  6.18211217e-02,\n",
       "         4.64997649e-01,  3.32266361e-01, -3.90569703e-03,\n",
       "        -4.29457903e-01, -5.02660871e-01, -3.79525930e-01,\n",
       "         4.20223057e-01,  5.70477694e-02,  6.47518933e-01,\n",
       "        -1.27553016e-01,  4.25560594e-01,  2.43280411e-01,\n",
       "         8.52357149e-01, -1.89880699e-01,  1.40766263e-01,\n",
       "        -1.62236951e-02,  4.42142546e-01, -1.32277176e-01,\n",
       "        -2.69241240e-02,  5.15887737e-01,  1.84774354e-01,\n",
       "        -1.93995520e-01, -7.71625414e-02,  1.74477752e-02,\n",
       "        -3.22778970e-02, -4.30846326e-02,  7.79112726e-02,\n",
       "         4.42976505e-01, -1.84371769e-02, -1.50340855e-01,\n",
       "         1.16308525e-01,  1.15891948e-01, -4.37812418e-01,\n",
       "        -3.16448629e-01,  2.44748201e-02,  4.29749414e-02,\n",
       "         7.01700822e-02,  2.59830356e-01, -4.67000380e-02,\n",
       "        -2.14467898e-01, -2.31127664e-01, -9.32926759e-02,\n",
       "        -2.29066193e-01, -3.72801334e-01,  2.93290298e-02,\n",
       "        -2.08807737e-01, -8.05255473e-02,  1.20937601e-01,\n",
       "        -1.19624704e-01,  2.74517447e-01, -3.22120994e-01,\n",
       "         3.30005139e-01, -2.47173280e-01, -6.65159047e-01,\n",
       "         1.71818629e-01,  2.15069372e-02,  1.97678685e-01,\n",
       "        -1.15214460e-01, -3.97730589e-01, -9.35322642e-02,\n",
       "         1.23302922e-01,  2.51730025e-01, -3.73653650e-01,\n",
       "         5.14684618e-01, -2.79056489e-01, -3.97063017e-01,\n",
       "         3.04141909e-01,  2.54045457e-01,  1.68484867e-01,\n",
       "         2.96018869e-01,  1.06172912e-01, -2.03087330e-01,\n",
       "        -1.46033004e-01, -7.20320344e-02,  4.37691092e-01,\n",
       "        -4.54360873e-01, -5.00361025e-01,  7.04278231e-01,\n",
       "         2.13794895e-02, -9.68736224e-03,  6.47555768e-01,\n",
       "        -2.30891511e-01, -3.72804910e-01,  3.77860695e-01,\n",
       "         2.35751152e-01,  7.07567185e-02,  7.97894374e-02,\n",
       "        -1.64306521e-01, -4.07248408e-01,  5.98199368e-02,\n",
       "        -3.60584706e-01,  1.57075942e-01,  5.47613837e-02,\n",
       "        -1.25320718e-01,  2.28403166e-01,  1.89887568e-01,\n",
       "         4.34510022e-01,  3.81000526e-02, -2.67601553e-02,\n",
       "         6.30407214e-01, -4.05887403e-02,  1.74304128e-01,\n",
       "        -1.09558493e-01,  3.95337343e-01, -6.36804402e-02,\n",
       "         2.22295210e-01, -6.84971809e-02,  4.77714032e-01,\n",
       "         3.24353963e-01, -7.44559541e-02,  1.20800368e-01,\n",
       "        -4.67169553e-01, -6.94424585e-02,  4.14343029e-02,\n",
       "        -4.42015201e-01,  3.14794898e-01, -3.42922181e-01,\n",
       "         3.49760167e-02, -2.26356655e-01, -2.69960940e-01,\n",
       "         3.07284206e-01,  2.92458683e-01,  2.04444513e-01,\n",
       "        -2.39429504e-01,  2.56918341e-01,  7.40522817e-02,\n",
       "         5.99248946e-01,  4.28632200e-02,  6.35263324e-02,\n",
       "         7.15632588e-02,  6.73136771e-01,  3.48946005e-01,\n",
       "        -1.13679789e-01,  6.29074335e-01,  6.13827817e-02,\n",
       "         4.23385680e-01, -3.49135548e-01,  4.21003848e-01,\n",
       "         1.31846651e-01,  2.00887397e-02, -3.50326836e-01,\n",
       "        -3.39064389e-01,  5.99083483e-01, -1.84447706e-01,\n",
       "         2.56779969e-01, -1.11379094e-01,  8.49977061e-02,\n",
       "        -1.39532797e-02, -6.20542467e-02, -3.30072045e-01,\n",
       "         2.71353573e-01,  1.85811475e-01, -2.20747992e-01,\n",
       "        -1.80137753e-01, -1.57727692e-02, -4.52664942e-01,\n",
       "         2.26195380e-01, -2.94366316e-03, -3.52203958e-02,\n",
       "         1.40329555e-01,  9.70706567e-02, -1.59076124e-01,\n",
       "         5.77880032e-02, -1.04904599e-01, -7.42730126e-02,\n",
       "         2.88902283e-01,  1.29350737e-01, -3.66867334e-01,\n",
       "         4.07790035e-01,  8.82888734e-02,  1.97782703e-02,\n",
       "        -9.96246338e-02,  2.60061920e-01, -5.18703312e-02,\n",
       "         1.50244206e-01,  1.66854158e-01,  3.11112106e-01,\n",
       "         2.38695741e-01, -2.65610993e-01,  6.03486747e-02,\n",
       "        -1.12105593e-01, -1.73998103e-02,  3.04815441e-01,\n",
       "        -2.45618522e-01,  1.07937410e-01, -2.23439038e-01,\n",
       "         4.02420871e-02,  1.92193359e-01, -1.57664254e-01,\n",
       "         1.04677126e-01,  4.49661203e-02,  5.01727402e-01,\n",
       "        -3.35036993e-01, -2.62346298e-01,  2.44897842e-01,\n",
       "         1.16187990e-01,  2.16791630e-01,  2.35175490e-01,\n",
       "         1.64356697e-02, -3.14683646e-01,  7.00899884e-02,\n",
       "        -3.32381167e-02,  2.19923202e-02, -5.12947381e-01,\n",
       "        -9.41983834e-02,  1.94832683e-01,  4.53611873e-02,\n",
       "         1.21821882e-02, -1.56526685e-01,  2.98376679e-01,\n",
       "         2.20258817e-01,  4.52048004e-01,  1.47487596e-01,\n",
       "         4.08234596e-01, -2.15296850e-01, -1.93193018e-01,\n",
       "         6.92152530e-02,  7.29790330e-02, -1.59809291e-01,\n",
       "         3.07121038e-01,  3.75287645e-02,  2.41176501e-01,\n",
       "         7.94709474e-02, -1.29600782e-02,  2.47574702e-01,\n",
       "         2.16614753e-01,  2.00334191e-01, -2.34818742e-01,\n",
       "        -5.24975538e-01,  3.16015512e-01, -5.52145779e-01,\n",
       "        -2.88651824e-01,  1.31410047e-01,  5.32292947e-02,\n",
       "         1.38699571e-02,  1.80812761e-01,  2.05338538e-01,\n",
       "        -1.86399415e-01, -5.92158101e-02,  1.37262106e-01,\n",
       "        -1.04595184e-01, -6.59338892e-01,  5.15744500e-02,\n",
       "         3.01651567e-01, -2.72349447e-01,  8.81758332e-02,\n",
       "        -3.41090560e-01,  1.41769126e-01, -2.64550801e-02,\n",
       "        -1.68644622e-01, -2.31437329e-02, -2.12983251e-01,\n",
       "        -4.34065968e-01,  3.51107150e-01, -2.31771141e-01,\n",
       "        -1.07397482e-01,  1.34066388e-01,  2.42576376e-01,\n",
       "        -2.89361775e-01, -1.69589564e-01, -7.98453689e-02,\n",
       "         1.75716683e-01,  2.52290871e-02,  8.28116536e-02,\n",
       "        -9.57581587e-03,  1.20791659e-01, -8.69942382e-02,\n",
       "        -1.59326851e-01, -5.15488446e-01,  4.90235269e-01,\n",
       "         1.23847298e-01,  1.32163733e-01,  1.54467020e-02,\n",
       "         3.33110720e-01,  1.03531316e-01,  3.97591107e-02,\n",
       "         2.49759778e-01, -2.49915406e-01,  1.02973484e-01,\n",
       "        -3.49601954e-02,  2.21519902e-01,  9.13251191e-03,\n",
       "        -8.71512294e-02, -5.57001382e-02, -3.18260328e-03,\n",
       "        -3.23826432e-01,  1.66659683e-01,  5.00030182e-02,\n",
       "         5.85233271e-01,  1.16430886e-01,  2.49285877e-01,\n",
       "         1.80403039e-01, -4.24799681e-01, -2.06354484e-02,\n",
       "        -1.39850572e-01, -3.57608199e-02, -1.63096383e-01,\n",
       "         1.20141394e-01,  6.28908575e-01,  1.74652681e-01,\n",
       "        -2.19311967e-01, -1.44359142e-01, -2.91251481e-01,\n",
       "        -5.09785116e-02, -1.06604524e-01, -8.09817374e-01,\n",
       "         1.80541500e-01,  1.78534225e-01,  2.36877844e-01,\n",
       "        -2.17514336e-01, -2.90620010e-02, -3.34934026e-01,\n",
       "         3.02156210e-01, -2.65019804e-01,  1.34927854e-01,\n",
       "         3.21841277e-02,  3.49865168e-01,  1.66083202e-01,\n",
       "        -2.91931808e-01,  1.82563975e-01, -2.72759199e-01,\n",
       "        -1.54152751e-01,  9.63397026e-02,  9.24943909e-02,\n",
       "         1.05172731e-01, -2.51699656e-01, -1.34039178e-01,\n",
       "        -1.63095549e-01,  2.88429767e-01, -3.66360247e-01,\n",
       "        -7.46569216e-01,  1.86949581e-01,  6.53101742e-01,\n",
       "        -2.26642430e-01,  2.31481627e-01, -2.93223262e-02,\n",
       "         2.15082794e-01,  1.25441521e-01, -8.01705942e-02,\n",
       "         1.06721021e-01,  5.11490047e-01, -3.70664224e-02,\n",
       "        -4.48899776e-01,  1.95397750e-01,  2.33880192e-01,\n",
       "        -9.12998989e-02,  1.50498003e-01,  3.64729822e-01,\n",
       "        -1.76037192e-01, -9.47613791e-02,  3.12182214e-02,\n",
       "        -4.15087044e-01,  4.95532714e-03,  6.33738339e-01,\n",
       "         1.30664632e-01,  1.53944299e-01,  2.08786689e-02,\n",
       "         4.71336722e-01, -2.23281935e-01, -2.77895093e-01,\n",
       "         3.81543547e-01, -3.97139881e-03,  5.59242032e-02,\n",
       "         6.24204755e-01,  2.10163668e-01, -4.01768237e-01,\n",
       "        -1.05825961e-01,  3.08566093e-01,  2.22969055e-01,\n",
       "         1.21267669e-01,  8.39760378e-02,  4.44754392e-01,\n",
       "         1.74904913e-02, -3.40561301e-01, -6.47865087e-02,\n",
       "         1.31640777e-01,  4.26553041e-02, -2.13780582e-01,\n",
       "         9.26854461e-02,  2.95330465e-01,  1.16378605e-01,\n",
       "        -4.77454215e-02,  6.04734123e-01, -1.31659329e-01,\n",
       "         8.80534053e-02,  3.56304228e-01, -2.61579543e-01,\n",
       "         4.62072730e-01,  2.82817334e-01, -3.35266113e-01,\n",
       "        -7.03459010e-02, -2.57785141e-01,  3.64728607e-02,\n",
       "         1.24131918e-01,  3.31949800e-01,  6.90921620e-02,\n",
       "         1.23178959e-02,  4.52584028e-02,  3.17632854e-02]], dtype=float32)"
      ]
     },
     "execution_count": 74,
     "metadata": {},
     "output_type": "execute_result"
    }
   ],
   "source": [
    "sentence_embedding"
   ]
  },
  {
   "cell_type": "code",
   "execution_count": 77,
   "metadata": {},
   "outputs": [],
   "source": [
    "\n",
    "# Search with limit\n",
    "res = client.search(\n",
    "    collection_name=\"bkai_vectordb\",\n",
    "    data=sentence_embedding,\n",
    "    limit=3,\n",
    ")"
   ]
  },
  {
   "cell_type": "code",
   "execution_count": 84,
   "metadata": {},
   "outputs": [
    {
     "data": {
      "text/plain": [
       "[data: [\"{'id': 38032, 'question': 'Hiệp hội Công nghiệp ghi âm Việt Nam là tổ chức gì?', 'context': 'Tôn chỉ, mục đích\\\\\\\\n1. Hiệp hội Công nghiệp ghi âm Việt Nam (sau đây gọi tắt là Hiệp hội) là tổ chức xã hội - nghề nghiệp tự nguyện của tổ chức, công dân Việt Nam đã và đang hoạt động trong lĩnh vực sản xuất bản ghi âm, ghi hình, là chủ sở hữu nắm giữ một phần, một số hoặc toàn bộ các quyền liên quan đối với bản ghi âm, ghi hình (bao gồm các sản phẩm ghi âm, ghi hình, các buổi biểu diễn được định hình) ở Việt Nam theo quy định của pháp luật.\\\\\\\\n2. Hiệp hội hoạt động với mục đích tập hợp, đoàn kết hội viên nhằm hỗ trợ, giúp đỡ lẫn nhau để hoạt động hiệu quả, phát huy đạo đức nghề nghiệp gắn với trách nhiệm xã hội trong việc phát triển sản phẩm bản ghi âm, ghi hình; chống lại các hành vi xâm phạm quyền tác giả, quyền liên quan trong lĩnh vực công nghiệp ghi âm; góp phần thúc đẩy sáng tạo, phổ biến các giá trị âm nhạc, các loại hình nghệ thuật dân tộc và tinh hoa âm nhạc thế giới tới công chúng một cách thuận lợi, phát triển văn hóa, kinh tế - xã hội của đất nước.', 'cid': 111380, 'qid': 147950, 'qa_sentence': 'Hiệp hội Công nghiệp ghi âm Việt Nam là tổ chức gì? Tôn chỉ, mục đích\\\\\\\\n1. Hiệp hội Công nghiệp ghi âm Việt Nam (sau đây gọi tắt là Hiệp hội) là tổ chức xã hội - nghề nghiệp tự nguyện của tổ chức, công dân Việt Nam đã và đang hoạt động trong lĩnh vực sản xuất bản ghi âm, ghi hình, là chủ sở hữu nắm giữ một phần, một số hoặc toàn bộ các quyền liên quan đối với bản ghi âm, ghi hình (bao gồm các sản phẩm ghi âm, ghi hình, các buổi biểu diễn được định hình) ở Việt Nam theo quy định của pháp luật.\\\\\\\\n2. Hiệp hội hoạt động với mục đích tập hợp, đoàn kết hội viên nhằm hỗ trợ, giúp đỡ lẫn nhau để hoạt động hiệu quả, phát huy đạo đức nghề nghiệp gắn với trách nhiệm xã hội trong việc phát triển sản phẩm bản ghi âm, ghi hình; chống lại các hành vi xâm phạm quyền tác giả, quyền liên quan trong lĩnh vực công nghiệp ghi âm; góp phần thúc đẩy sáng tạo, phổ biến các giá trị âm nhạc, các loại hình nghệ thuật dân tộc và tinh hoa âm nhạc thế giới tới công chúng một cách thuận lợi, phát triển văn hóa, kinh tế - xã hội của đất nước.', 'embeddings': [0.10911047, -0.080679014, -0.031046744, 0.031295773, 0.07091856, 0.52066654, -0.23972543, 0.05814788, -0.1391609, 0.036481496, 0.12073693, 0.09879516, 0.42540494, 0.053300735, -0.08666558, -0.08171185, 0.0022796001, 0.13869005, -0.057362065, -0.21080299, 0.06953527, 0.11254982, 0.03869576, 0.07254228, -0.08686584, 0.23015693, 0.17055926, 0.043907795, -0.3024128, 0.07096685, -0.16321328, 0.006626874, 0.006361452, -0.4743809, 0.32083392, 0.04461194, -0.053484887, 0.25602987, -0.052406967, -0.020427335, 0.036004644, 0.35445184, 0.2526325, 0.40846258, -0.21241891, -0.11305343, 0.18290213, -0.49363646, 0.2096409, 0.066656336, -0.31497973, 0.036687806, -0.012307746, 0.31852868, 0.028203221, -0.0128820855, -0.109672055, 0.07707985, 0.07246154, 0.03070206, -0.14396581, -0.3677137, -0.2806738, 0.19244194, 0.23846398, -0.24290746, 0.2532614, 0.06626253, 0.30854514, -0.101787, 0.48117512, -0.07880317, 0.094129674, -0.16993651, 0.06119549, 0.31648007, 0.24815668, -0.4309443, -0.17332223, 0.28239474, 0.030274177, 0.5944748, -0.05545919, -0.24507329, -0.1342429, 0.23761426, -0.17036219, -0.02838118, -0.074703686, -0.19028027, 0.19317946, 0.23331493, 0.41363007, 0.14931077, -0.19029298, 0.035304293, 0.16937399, -0.0584395, -0.34255368, -0.20182705, -0.061100267, 0.08801611, 0.20655943, 0.117118165, 0.115911745, 0.20069942, -0.035787527, 0.0714496, 0.015132292, -0.54307973, -0.023661736, 0.110825635, -0.1575663, -0.01502852, 0.18998384, -0.13344862, -0.03056531, -0.033121027, 0.0042315675, -0.026976515, 0.009136036, 0.5407263, 0.28289068, -0.06071517, 0.160893, 0.35117814, -0.12700166, -0.35490635, -0.10265379, 0.39870733, 0.120995484, -0.060055465, 0.1063938, -0.19419093, -0.02259129, 0.41891807, -0.17518255, 0.16023852, 0.1670768, -0.12859163, 0.12450494, 0.11490519, -0.1799047, 0.13945684, -0.1577605, 0.28301236, -0.28135973, 0.069333784, -0.310346, 0.03158902, 0.11170909, 0.028497703, 0.19170274, 0.093374565, -0.12407887, 0.07615621, -0.20754573, 0.05802702, -0.07771318, -0.11006433, -0.10616099, 0.17467697, -0.08381966, 0.43396595, 0.09215646, 0.14630759, 0.35761228, 0.13304968, 0.16280723, -0.11705145, 0.33618188, 0.018217247, 0.018590456, -0.0016394644, 0.17911276, 0.17115122, 0.21368325, -0.12239354, -0.03940833, 0.09073488, -0.15566945, -0.2504215, -0.06438112, 0.20745061, 0.043875497, 0.08815865, 0.029775292, -0.09359451, -0.11171396, 0.06668721, 0.11014001, -0.29723027, 0.39878914, 0.08593716, -0.22566505, -0.27272096, -0.08511538, 0.30267292, 0.24961394, 0.025949791, 0.22335573, -0.13920811, -0.14712422, -0.36376214, -0.24380013, 0.4834451, -0.058291156, 0.38135752, 0.02512728, -0.003090798, 0.0017512748, 0.36372614, 0.0729056, -0.29355407, 0.13221936, -0.0022359514, -0.46371925, -0.029996093, 0.30483204, 0.27074757, -0.17496651, 0.5827452, -0.37804416, -0.041097138, -0.23923337, -0.11192033, 0.123786435, -0.40530258, 0.1776157, -0.13893709, 0.08825676, 0.41129184, -0.0434241, -0.0070509464, 0.16586164, 0.095030576, 0.11707484, -0.07577574, -0.33003289, -0.06854933, 0.36432153, 0.12635842, 0.3831746, 0.092276774, -0.04467459, -0.26270097, -0.015671194, -0.058573984, 0.17578964, 0.13048181, -0.3267087, 0.027496122, -0.12109915, -0.052414946, -0.30599612, -0.028233293, 0.25754464, -0.32238403, -0.11799056, -0.13042006, 0.19066575, -0.0011124047, 0.015614454, 0.11428663, 0.14564157, 0.13502616, 0.16702291, 0.0931064, 0.20376474, -0.07507752, -0.0036029667, -0.18158564, -0.09332682, 0.3215447, -0.45437384, -0.5172415, 0.37896818, 0.17492422, -0.019485764, 0.03690963, 0.36622846, 0.1454044, -0.09570065, -0.2259132, 0.022115648, 0.1823343, 0.29469532, -0.22122365, -0.10349853, 0.23865652, 0.21186535, 0.053612553, -0.50684434, 0.15208507, 0.111811325, 0.27851385, 0.022856211, -0.29911304, 0.09075833, 0.102867156, 0.2394118, 0.1565257, -0.13839257, 0.1703614, 0.26025608, 0.23199764, -0.6071956, -0.06771049, 0.06548386, 0.4683258, -0.15586886, 0.38192472, -0.33722866, -0.013009839, 0.062075526, 0.38462132, -0.0025854288, 0.30082718, 0.13666493, -0.018041555, -0.08031711, 0.12002022, 0.048348777, -0.031198863, -0.008599762, 0.17984694, -0.08299385, 0.6959671, -0.28444317, -0.10544495, -0.026970323, 0.0679914, 0.3486833, -0.03975673, 0.26780376, 0.18441184, 0.23593313, 0.10639171, -0.103366494, 0.66080314, -0.17516944, -0.1204418, 0.0069202166, 0.16572857, 0.08753896, -0.18654943, 0.19916862, -0.23993334, 0.41047454, 0.30844358, -0.4456572, 0.014180228, -0.05854536, 0.033184625, -0.20583522, -0.3652975, 0.12550186, -0.03188149, 0.109685495, 0.07546729, 0.19806209, 0.010679843, -0.07473676, 0.19211638, 0.15698852, 0.0136484755, -0.0014830437, -0.27312276, -0.003728745, 0.6309287, 0.0517198, -0.06163972, -0.19207853, -0.44525844, 0.2238164, 0.107653916, 0.11559422, 0.48856157, -0.07164402, 0.20985863, 0.082257226, 0.19943348, 0.0108436495, 0.12827247, -0.20752847, 0.24109007, 0.08236579, 0.25672728, 0.24704397, -0.115120724, -0.16414972, -0.1493657, 0.22935988, 0.10303364, -0.09314473, -0.18776608, 0.35565826, -0.119683266, 0.023876326, 0.053484816, 0.107, -0.07835427, -0.11248883, -0.04328011, 0.13350609, 0.11786167, -0.026547184, -0.0014743693, -0.03507678, -0.09212021, -0.069924064, 0.061479002, -0.30432928, -0.11091332, 0.13256381, -0.04791214, 0.115955606, -0.0139810685, 0.11602846, 0.022051796, 0.28799206, -0.031653646, -0.3160116, 0.24669525, -0.13043156, 0.05023975, 0.0006228032, -0.21086769, -0.191805, 0.05831063, 0.036943704, -0.086251184, 0.3783189, -0.01615501, -0.16385671, 0.0062042996, 0.23132053, 0.06825038, 0.16998252, 0.040331375, -0.061356418, -0.20122777, 0.0016699769, 0.2251717, -0.32310933, -0.28289783, 0.4144202, 0.012355894, 0.011593252, 0.588801, 0.026320525, -0.18589005, 0.25616735, 0.04905842, -0.06746495, -0.24096489, -0.13889995, -0.1685461, 0.17265433, -0.03352147, 0.065489486, 0.2552248, -0.034024872, -0.015504319, 0.06881252, 0.028804641, -0.048395745, 0.020904984, 0.38088018, 0.18368319, 0.08165847, 0.07665751, 0.4199093, 0.15691632, 0.24554898, -0.13876203, 0.496357, 0.2135708, 0.29911524, 0.14402553, -0.027900863, 0.07649182, -0.20806563, -0.4181472, -0.26372105, -0.061587017, 0.14334491, -0.03464514, 0.03403447, 0.4951331, 0.2236248, -0.03104878, -0.03126892, 0.06299338, -0.12654798, 0.49489093, 0.25430274, 0.16428465, -0.04485855, 0.42699948, 0.17531715, -0.044807203, 0.23152399, 0.0008208398, 0.37914926, 0.06120102, 0.3053151, 0.18540984, -0.25516444, -0.25344148, -0.32909995, 0.30562633, 0.16507508, 0.26218784, -0.060633447, 0.17592427, 0.015945848, 0.25295687, -0.19076353, 0.18158388, 0.1616906, 0.22524005, -0.10024025, 0.044698074, -0.23610003, 0.15621144, 0.11699523, 0.0007001194, 0.07134872, 0.060421433, -0.21415249, -0.029945523, -0.16546185, -0.19240528, 0.090715736, 0.32161278, 0.1074639, 0.1746178, 0.13472372, -0.2665832, -0.14744684, 0.121935815, 0.1317169, 0.13037963, 0.36683875, -0.09350437, 0.29045537, -0.32479233, 0.21453571, 0.2435486, -0.05226843, -0.059947744, -0.10807224, -0.011894908, -0.0459262, -0.06622636, 0.070848726, 0.15646921, -0.032139786, 0.026252238, 0.21046242, -0.049612332, -0.11602482, 0.16692717, -0.035558246, 0.20888326, 0.15333228, 0.022129558, -0.2531928, -0.18103158, 0.11002959, -0.08467495, -0.44754285, -0.107252255, 0.42172548, -0.29655594, 0.31410116, -0.34524363, 0.14702684, 0.19974636, 0.26967305, 0.05269838, 0.22453244, -0.24392003, -0.021517176, 0.20210102, 0.079249665, -0.23211206, 0.21399847, 0.24638438, 0.6171658, 0.0845999, -0.034758426, -0.04351055, 0.445622, -0.0037644506, -0.13708642, 0.12585437, 0.022140577, -0.24189682, -0.16078265, 0.14645867, 0.17259645, -0.023726441, -0.09286007, 0.2403116, -0.10451187, 0.25703913, -0.037963104, 0.12302886, -0.3547974, 0.12037635, 0.018379314, -0.1532748, 0.030866178, -0.4173649, 0.007498998, -0.19565096, -0.05148707, -0.15909493, -0.2689142, -0.07711916, 0.28162158, -0.116199136, 0.012480001, 0.2555906, 0.1068513, -0.36713105, -0.23331897, 0.21500982, 0.13924298, -0.095294714, 0.1373403, 0.104426615, 0.047741808, -0.1741694, -0.11467326, -0.33672595, 0.14443895, 0.052993655, 0.2071856, -0.046018153, 0.024239548, 0.1235356, -0.085736826, 0.40419006, -0.1079533, 0.47568524, -0.2584949, 0.12522545, 0.19408971, 0.014591739, 0.02548407, -0.06738652, -0.3183895, 0.11056253, 0.14533716, 0.35688964, -0.17146769, 0.15378527, 0.35442758, -0.16909574, -0.4051775, 0.0010900553, -0.13995707, -0.12341991, 0.11375873, 0.029358031, 0.12778307, -0.06004665, 0.050671052, 0.001250877, 0.12616993, -0.08787806, -0.458634, -0.025468556, -0.08552252, 0.20805344, -0.22169796, 0.0106349755, -0.043632288, 0.009210482, -0.47849905, 0.290377, -0.09398833, 0.10270636, 0.2851261, -0.08250132, 0.15895829, -0.15104744, -0.07791166, 0.10277034, 0.22893274, 0.5760293, -0.1588049, 0.04067705, 0.04034989, 0.10242908, -0.22985922, -0.7123594, 0.3989029, 0.25736707, -0.023713425, 0.31202817, -0.15674955, -0.25658637, 0.20043135, -0.11534948, -0.18582329, 0.10273607, 0.025724195, -0.07035674, 0.17154248, -0.010172787, 0.111845665, -0.028822998, 0.12018984, 0.063614085, -0.11400528, 0.059313174, -0.03916129, -0.11418904, 0.16753122, 0.044331856, 0.036849175, 0.20108318, 0.4039871, 0.0525618, -0.0038101948, 0.43842858, 0.09912866, -0.042309865, 0.44388294, 0.45734087, -0.20836169, 0.035739854, -0.0055861967, 0.0061969915, -0.038006723, 0.022352953, 0.46188363, 0.035128985, -0.23513666, -0.15317723, 0.22391269, 0.017282363, -0.2441101, -0.068618625, -0.114758804, -0.14466539, 0.033111095, 0.050005745, -0.035648815, 0.18256952, 0.3379184, -0.15028986, 0.23895392, 0.032162506, -0.20044535, -0.1307711, 0.0647553, 0.2548309, 0.145838, 0.050021842, -0.15236077, 0.10795869, -0.15742153, -0.1597923]}\"] ,\n",
       " data: [\"{'id': 56796, 'question': 'Mục đích hoạt động của Hiệp hội Công nghiệp ghi âm Việt Nam là gì?', 'context': 'Tôn chỉ, mục đích\\\\\\\\n1. Hiệp hội Công nghiệp ghi âm Việt Nam (sau đây gọi tắt là Hiệp hội) là tổ chức xã hội - nghề nghiệp tự nguyện của tổ chức, công dân Việt Nam đã và đang hoạt động trong lĩnh vực sản xuất bản ghi âm, ghi hình, là chủ sở hữu nắm giữ một phần, một số hoặc toàn bộ các quyền liên quan đối với bản ghi âm, ghi hình (bao gồm các sản phẩm ghi âm, ghi hình, các buổi biểu diễn được định hình) ở Việt Nam theo quy định của pháp luật.\\\\\\\\n2. Hiệp hội hoạt động với mục đích tập hợp, đoàn kết hội viên nhằm hỗ trợ, giúp đỡ lẫn nhau để hoạt động hiệu quả, phát huy đạo đức nghề nghiệp gắn với trách nhiệm xã hội trong việc phát triển sản phẩm bản ghi âm, ghi hình; chống lại các hành vi xâm phạm quyền tác giả, quyền liên quan trong lĩnh vực công nghiệp ghi âm; góp phần thúc đẩy sáng tạo, phổ biến các giá trị âm nhạc, các loại hình nghệ thuật dân tộc và tinh hoa âm nhạc thế giới tới công chúng một cách thuận lợi, phát triển văn hóa, kinh tế - xã hội của đất nước.', 'cid': 111380, 'qid': 44561, 'qa_sentence': 'Mục đích hoạt động của Hiệp hội Công nghiệp ghi âm Việt Nam là gì? Tôn chỉ, mục đích\\\\\\\\n1. Hiệp hội Công nghiệp ghi âm Việt Nam (sau đây gọi tắt là Hiệp hội) là tổ chức xã hội - nghề nghiệp tự nguyện của tổ chức, công dân Việt Nam đã và đang hoạt động trong lĩnh vực sản xuất bản ghi âm, ghi hình, là chủ sở hữu nắm giữ một phần, một số hoặc toàn bộ các quyền liên quan đối với bản ghi âm, ghi hình (bao gồm các sản phẩm ghi âm, ghi hình, các buổi biểu diễn được định hình) ở Việt Nam theo quy định của pháp luật.\\\\\\\\n2. Hiệp hội hoạt động với mục đích tập hợp, đoàn kết hội viên nhằm hỗ trợ, giúp đỡ lẫn nhau để hoạt động hiệu quả, phát huy đạo đức nghề nghiệp gắn với trách nhiệm xã hội trong việc phát triển sản phẩm bản ghi âm, ghi hình; chống lại các hành vi xâm phạm quyền tác giả, quyền liên quan trong lĩnh vực công nghiệp ghi âm; góp phần thúc đẩy sáng tạo, phổ biến các giá trị âm nhạc, các loại hình nghệ thuật dân tộc và tinh hoa âm nhạc thế giới tới công chúng một cách thuận lợi, phát triển văn hóa, kinh tế - xã hội của đất nước.', 'embeddings': [0.07589616, -0.07655762, -0.015203811, 0.02496811, 0.06706664, 0.51685894, -0.21324106, 0.075019255, -0.1103323, 0.0407157, 0.13662905, 0.058100395, 0.4232344, 0.06511397, -0.06667903, -0.062297575, 0.017866999, 0.14713618, -0.08878352, -0.22037745, 0.078040615, 0.12235837, 0.04300627, 0.07566184, -0.10636401, 0.216702, 0.15698044, 0.04036122, -0.274599, 0.054702938, -0.13495466, 0.010939811, -0.013456158, -0.46541923, 0.31664568, 0.03614405, -0.03537751, 0.22393584, -0.057786375, -0.006948821, 0.0826889, 0.37968516, 0.24086438, 0.40111965, -0.20671871, -0.116293564, 0.2101381, -0.4768008, 0.2249966, 0.07166813, -0.31614798, 0.034934424, -0.003318859, 0.32515538, 0.0095418645, -0.028180469, -0.11045721, 0.114529625, 0.0947809, 0.020137567, -0.12558691, -0.37325606, -0.29093927, 0.18883789, 0.24054566, -0.2495122, 0.26328477, 0.08095954, 0.30876392, -0.123370476, 0.50611466, -0.07797791, 0.1116578, -0.1742192, 0.08023551, 0.31730074, 0.24703293, -0.42886108, -0.1862207, 0.25034657, 0.047519356, 0.5837083, -0.05656475, -0.27202907, -0.111310944, 0.24541342, -0.16418701, -0.02425975, -0.06282528, -0.17779541, 0.1978578, 0.22012497, 0.4010154, 0.12945688, -0.16731405, 0.039112996, 0.19266373, -0.062330857, -0.3533524, -0.18932854, -0.058939125, 0.084947094, 0.26156262, 0.116109475, 0.114423975, 0.18264113, -0.009755533, 0.07607107, 0.041179568, -0.52024794, -0.03333854, 0.12043862, -0.1569007, -0.0034578615, 0.18737781, -0.11353878, -0.03660723, -0.07027957, -0.033871524, -0.03985704, -0.012088303, 0.52789044, 0.2924469, -0.066169865, 0.17450988, 0.3834386, -0.11153943, -0.35543323, -0.10894197, 0.38603443, 0.11823036, -0.061734263, 0.10840352, -0.19726607, -0.023326518, 0.3939128, -0.1437417, 0.15237814, 0.1585212, -0.11144249, 0.109455556, 0.09351869, -0.19814686, 0.118852325, -0.13456643, 0.29315117, -0.22928269, 0.04481464, -0.31283998, 0.056426264, 0.12549391, 0.021776028, 0.1914368, 0.084231794, -0.11549334, 0.06628629, -0.18962762, 0.050508223, -0.10116173, -0.11637667, -0.105409846, 0.19187093, -0.09277443, 0.43757376, 0.09478468, 0.123184755, 0.37248108, 0.12014319, 0.12187838, -0.14272451, 0.3362103, 0.027938172, 0.013473969, -0.019108377, 0.14643064, 0.18118963, 0.17701666, -0.11097297, -0.032731593, 0.07413296, -0.16771322, -0.23678938, -0.0873006, 0.20928556, 0.06879605, 0.0871652, 0.042703096, -0.1100031, -0.11175688, 0.067522824, 0.112381175, -0.2908597, 0.45683387, 0.08937263, -0.22110753, -0.25988305, -0.09426536, 0.28067526, 0.27486056, 0.007285973, 0.20354721, -0.14899665, -0.14238939, -0.38488072, -0.21911334, 0.4845777, -0.056095112, 0.37686807, 0.041018907, 0.017157735, -0.002367158, 0.38753068, 0.041992962, -0.31532174, 0.1639384, -0.0283803, -0.48305708, -0.02003606, 0.30104083, 0.2729944, -0.16711193, 0.5915568, -0.35512018, -0.03716839, -0.23348898, -0.140246, 0.10291429, -0.39921936, 0.19375712, -0.14977573, 0.076227605, 0.4364795, -0.02874732, 0.007534001, 0.16138196, 0.095435284, 0.0848863, -0.090647206, -0.3632675, -0.06261055, 0.377999, 0.12377658, 0.35875583, 0.08071868, -0.03469067, -0.269207, -0.018186564, -0.06396906, 0.17052117, 0.12714332, -0.28716356, 0.01321177, -0.10661465, -0.041826647, -0.30809492, -0.03567541, 0.25118956, -0.32622576, -0.08189601, -0.13630609, 0.19974436, 0.0006015985, 0.044699375, 0.098457105, 0.11097088, 0.13809957, 0.15756571, 0.111306176, 0.19670063, -0.08558095, -0.022503473, -0.17391476, -0.09728016, 0.31918705, -0.4678964, -0.5260082, 0.3686055, 0.17381601, -0.043494757, 0.008777568, 0.3889747, 0.13801137, -0.0909687, -0.2161512, 0.03216043, 0.19688135, 0.29575092, -0.23344557, -0.08823855, 0.24946555, 0.23190694, 0.056344602, -0.4790643, 0.1441683, 0.11921346, 0.3098811, 0.01839088, -0.30585998, 0.116176784, 0.104795426, 0.21009049, 0.16641147, -0.1431043, 0.16244705, 0.26605213, 0.23562911, -0.61073315, -0.07129178, 0.07414422, 0.47751158, -0.16531256, 0.37062132, -0.31791604, -0.0151293, 0.068132445, 0.38960826, -0.013173165, 0.29385597, 0.14323688, -0.012880453, -0.08463724, 0.12327384, 0.054861136, -0.048529506, -0.04558248, 0.17680074, -0.09040397, 0.68740594, -0.29147363, -0.10918481, -0.026450837, 0.042598315, 0.36117494, -0.04916688, 0.2532931, 0.18559386, 0.25434482, 0.11499016, -0.11508993, 0.6787784, -0.1698386, -0.11381204, -0.01729876, 0.13896841, 0.07005387, -0.21151906, 0.22162256, -0.24319443, 0.37633097, 0.2984626, -0.45824647, 0.021032508, -0.0621749, 0.0381411, -0.17242321, -0.35352775, 0.11971788, -0.04939533, 0.13280673, 0.07678309, 0.21656197, -0.01944493, -0.08275396, 0.20299372, 0.13566563, 0.017910557, 0.03616313, -0.25020024, -0.029912965, 0.6231555, 0.0601028, -0.061218098, -0.1493992, -0.42622507, 0.23493218, 0.094487056, 0.13154292, 0.4964162, -0.07518402, 0.18685077, 0.056032732, 0.18973655, 0.00989498, 0.115335226, -0.19809364, 0.22626172, 0.089336626, 0.26189777, 0.23605591, -0.12883246, -0.16453002, -0.111970395, 0.22716236, 0.10323599, -0.09919378, -0.18351409, 0.3651111, -0.111085065, -0.0039361343, 0.042364694, 0.10702252, -0.07870549, -0.08429978, -0.06868255, 0.14035907, 0.100474, -0.01975966, 0.008010214, -0.060799733, -0.07873374, -0.08139038, 0.09926489, -0.30801666, -0.09280441, 0.12889531, -0.040027767, 0.10430944, -0.012868434, 0.11071698, 0.034853976, 0.28052622, -0.033171073, -0.3001508, 0.23317894, -0.11122656, 0.051580913, 0.003938453, -0.2048217, -0.18005088, 0.07327087, 0.041422408, -0.09545506, 0.42798197, -0.012548726, -0.1675647, 0.0035959352, 0.21252695, 0.082692675, 0.18240444, 0.06467259, -0.07806045, -0.18906504, 0.018873671, 0.21046461, -0.3263286, -0.2727937, 0.3912479, 0.012511592, 0.019165382, 0.5776192, 0.023939906, -0.16621515, 0.25590655, 0.04474899, -0.051722102, -0.22995166, -0.11379179, -0.15660077, 0.16502056, -0.0052619074, 0.04320687, 0.28930646, -0.024900327, -0.02291423, 0.04203291, 3.021583e-05, -0.055618852, 0.01738112, 0.37785614, 0.17716026, 0.04809711, 0.07172215, 0.40497896, 0.13629588, 0.28413916, -0.1323445, 0.48436487, 0.21550903, 0.29124552, 0.13907422, -0.004624671, 0.11596966, -0.19090258, -0.41805536, -0.26505178, -0.090648174, 0.13754041, -0.0452495, 0.040353015, 0.4709508, 0.21431631, -0.026533328, -0.028536221, 0.06842838, -0.12849525, 0.52276385, 0.26038605, 0.14806226, -0.047589768, 0.43356597, 0.13493371, -0.018788021, 0.22255124, -0.02313676, 0.38039964, 0.04694783, 0.2944463, 0.1600875, -0.25458232, -0.2537823, -0.31915712, 0.30289543, 0.13718995, 0.25689858, -0.04947564, 0.1554944, 0.039909706, 0.3033057, -0.21376638, 0.20331433, 0.18818414, 0.25700134, -0.13281143, 0.023738425, -0.22911221, 0.1635209, 0.107917875, 0.020157745, 0.057759635, 0.070123926, -0.16982645, -0.050239734, -0.15326549, -0.20162189, 0.084826864, 0.32527423, 0.09243119, 0.17629752, 0.13283554, -0.24304676, -0.15144853, 0.122950196, 0.11268611, 0.13561812, 0.3435173, -0.081910275, 0.2849489, -0.32450503, 0.21141765, 0.24829346, -0.03202063, -0.04083185, -0.11799371, -0.016169839, -0.058581546, -0.049434356, 0.10198946, 0.16068041, 0.0016253572, 0.019380115, 0.21440943, -0.04445862, -0.12105817, 0.14893463, -0.031129215, 0.19939867, 0.15406428, 0.012955755, -0.27428454, -0.18208829, 0.11514586, -0.07951006, -0.43476033, -0.08154426, 0.458391, -0.30234042, 0.31750703, -0.34010124, 0.13549525, 0.19231635, 0.28865817, 0.046335455, 0.18576573, -0.25781626, -0.05336918, 0.22878063, 0.073350705, -0.2353037, 0.17113382, 0.23903869, 0.6116817, 0.065256044, -0.044298373, -0.040045153, 0.43421942, -0.008540476, -0.13077495, 0.13081044, 0.026190039, -0.23152274, -0.1846854, 0.15002458, 0.18807697, -0.03227498, -0.09567253, 0.24321605, -0.08761394, 0.26319292, -0.07016572, 0.106435955, -0.33384955, 0.11562203, 0.007978129, -0.15425083, 0.026427947, -0.42313093, 0.016140394, -0.20139064, -0.04737866, -0.17978638, -0.27103072, -0.07006438, 0.26616508, -0.115153775, 0.0037280268, 0.26936412, 0.11363963, -0.3843574, -0.24029845, 0.23576203, 0.15353832, -0.10681481, 0.15738818, 0.10957976, 0.042629987, -0.15281978, -0.124455296, -0.3529612, 0.14769201, 0.08531786, 0.20572078, -0.06318699, 0.006841654, 0.126629, -0.11805141, 0.40886974, -0.09113087, 0.48478416, -0.25404733, 0.10731562, 0.20519145, -0.01692094, 0.016970355, -0.07737162, -0.3148231, 0.12366466, 0.13453983, 0.3230667, -0.15850958, 0.13523598, 0.34161317, -0.14519086, -0.4604428, 0.033410862, -0.12504137, -0.1060328, 0.12379835, 0.013433828, 0.12424478, -0.07872695, 0.03320534, -0.012789133, 0.1384939, -0.07984369, -0.454118, -0.057526156, -0.078909814, 0.17277685, -0.20304807, -0.0024712784, -0.030820971, 0.020939074, -0.4938959, 0.25858098, -0.07856053, 0.091608524, 0.29075047, -0.096718036, 0.15519422, -0.1614357, -0.050813846, 0.10421981, 0.22294311, 0.5553053, -0.13736159, 0.032137886, 0.034591813, 0.12388994, -0.23424682, -0.68426037, 0.3918742, 0.26897305, -0.021496799, 0.31122425, -0.19464846, -0.23979467, 0.234891, -0.108413085, -0.1636019, 0.0742914, 0.01741007, -0.056275994, 0.1639517, -0.002665142, 0.11939993, -0.0507396, 0.10505259, 0.06495881, -0.10851049, 0.0687293, -0.057990454, -0.10362413, 0.16962765, 0.059907023, 0.023229422, 0.1557888, 0.3671931, 0.026372192, 0.0006896965, 0.44565895, 0.12544148, -0.047875594, 0.4315773, 0.43643337, -0.20247576, 0.06254648, -0.0034448095, 0.0080068465, -0.052766923, 0.047907267, 0.4879993, 0.0025450047, -0.19039136, -0.15378521, 0.23231548, 0.017018039, -0.22465396, -0.07568161, -0.10738443, -0.13027808, 0.029966298, 0.06032875, -0.0534678, 0.19388452, 0.32188955, -0.15531468, 0.21846563, 0.029404467, -0.17689589, -0.16157255, 0.06458691, 0.26064476, 0.15465707, 0.039187375, -0.17044586, 0.10494799, -0.14821723, -0.16357079]}\"] ,\n",
       " data: [\"{'id': 89401, 'question': 'Hội Tin học Việt Nam có mục đích hoạt động là gì?', 'context': 'Tôn chỉ, mục đích và lĩnh vực hoạt động\\\\\\\\n1. Hội Tin học Việt Nam (sau đây gọi tắt là Hội) là tổ chức xã hội - nghề nghiệp, tự nguyện của các cá nhân, tổ chức Việt Nam hoạt động nghiên cứu, đào tạo, phổ biến, ứng dụng, sản xuất, kinh doanh, cung cấp dịch vụ trong lĩnh vực công nghệ thông tin và những người có đóng góp hoặc tạo điều kiện thuận lợi cho sự phát triển công nghệ thông tin của Việt Nam.\\\\\\\\n2. Mục đích của Hội là tập hợp hội viên để góp phần đẩy mạnh nghiên cứu, đào tạo, phổ biến, ứng dụng và phát triển công nghệ thông tin phục vụ sự nghiệp công nghiệp hóa, hiện đại hóa đất nước.', 'cid': 187771, 'qid': 119821, 'qa_sentence': 'Hội Tin học Việt Nam có mục đích hoạt động là gì? Tôn chỉ, mục đích và lĩnh vực hoạt động\\\\\\\\n1. Hội Tin học Việt Nam (sau đây gọi tắt là Hội) là tổ chức xã hội - nghề nghiệp, tự nguyện của các cá nhân, tổ chức Việt Nam hoạt động nghiên cứu, đào tạo, phổ biến, ứng dụng, sản xuất, kinh doanh, cung cấp dịch vụ trong lĩnh vực công nghệ thông tin và những người có đóng góp hoặc tạo điều kiện thuận lợi cho sự phát triển công nghệ thông tin của Việt Nam.\\\\\\\\n2. Mục đích của Hội là tập hợp hội viên để góp phần đẩy mạnh nghiên cứu, đào tạo, phổ biến, ứng dụng và phát triển công nghệ thông tin phục vụ sự nghiệp công nghiệp hóa, hiện đại hóa đất nước.', 'embeddings': [0.18170512, 0.03057061, -0.14379056, 0.2833738, -0.0366638, 0.6062158, -0.14600234, 0.13699614, -0.02367654, -0.01496018, -0.02124866, 0.1305345, 0.26421216, -0.01846013, 0.02305267, -0.06281304, 0.3557176, 0.01757832, -0.3222575, -0.25660416, 0.48003775, 0.30089462, 0.12730125, 0.26188526, -0.47753668, 0.27895942, 0.06013908, 0.33144736, -0.30039486, 0.24078451, 0.03994831, 0.11309284, 0.15937936, -0.5016397, 0.3326159, 0.11590011, -0.0688943, 0.31615636, -0.02157388, 0.05457808, 0.09199492, 0.02947679, 0.15857823, 0.33732048, -0.32552972, -0.04420914, -0.18530646, -0.23721485, 0.30075347, 0.19762745, -0.24183425, 0.10125805, 0.11166086, 0.1596306, 0.20004506, 0.09125482, -0.34856173, 0.09267284, 0.16959852, 0.18503998, -0.18265846, -0.3556255, -0.12053161, 0.2745838, 0.17854956, -0.21001069, 0.20894581, 0.3259338, 0.28860193, -0.06063869, 0.3202459, -0.18914899, 0.06402081, -0.3214595, 0.01996403, 0.28006026, 0.23209463, -0.41605878, -0.23856008, 0.39686942, -0.02228307, 0.39172876, -0.02676313, -0.11751057, -0.25375867, 0.11208817, -0.37268913, -0.06307887, -0.22803648, -0.26812682, 0.15647323, 0.37660918, 0.3741474, 0.3063948, -0.12219366, -0.13311847, 0.11136223, -0.2663105, -0.6999626, -0.2752086, 0.00547233, 0.10483943, 0.21172532, 0.08178733, -0.01532947, 0.44967788, 0.08872892, 0.17780559, -0.03315653, -0.39143547, 0.10770458, 0.15990554, -0.19205904, 0.1299807, 0.14166468, -0.10946464, 0.03067965, -0.34031868, 0.1302453, -0.15355669, 0.02709456, 0.74524724, 0.36630857, -0.05033641, 0.21580781, 0.14828925, -0.2091054, -0.19234058, -0.01746192, 0.32588255, 0.1126161, -0.07307122, -0.06080203, -0.41298527, -0.14145458, 0.1261717, 0.09459321, 0.02856717, 0.11086667, -0.13067771, -0.28745225, -0.01564366, -0.10530417, -0.17979978, -0.08856339, 0.36842212, -0.10154194, -0.03343483, -0.33008334, -0.05130973, 0.23006038, 0.03078851, 0.2683515, 0.30445108, -0.03752122, -0.05689851, -0.17908077, 0.14384522, -0.13444929, -0.00809091, -0.01014353, 0.19998546, -0.08057115, 0.3817442, -0.13254566, 0.30268618, 0.35892624, 0.06500183, 0.1107595, -0.17092149, 0.18103231, 0.17656754, 0.22472799, -0.03981159, 0.6621627, 0.11410487, -0.14173627, -0.21397641, -0.19032921, -0.04171392, -0.21957614, -0.07819366, -0.07676663, 0.22585897, -0.01288123, -0.00397207, -0.1256962, -0.07811195, -0.33742478, 0.16288428, 0.10241493, -0.3765588, 0.23725696, -0.11140319, -0.02596743, -0.24714713, 0.08425214, 0.30998373, -0.09255471, -0.03093483, 0.32482857, -0.3180282, -0.02375631, -0.51639086, -0.06414728, 0.6808434, -0.21018627, 0.18962678, 0.173237, 0.18687674, 0.04640544, 0.32768932, -0.0762147, -0.25673625, 0.38193342, -0.03889468, -0.18426007, -0.1468481, 0.40791303, 0.12965988, -0.20419239, 0.32923847, -0.6338801, 0.03803795, -0.10114798, -0.20996945, 0.2196635, -0.43332443, 0.21653427, -0.11776879, -0.07466704, 0.32544032, -0.12116806, -0.01039949, 0.07195263, -0.05276679, 0.14209166, -0.12422194, -0.2351001, 0.1723604, 0.30832523, 0.04179828, 0.3796365, 0.16023679, 0.08507854, -0.12756103, -0.04124724, 0.02987101, 0.16877535, 0.25488627, 0.09042246, 0.0334589, 0.04348077, -0.06990115, -0.24948312, -0.04912109, 0.6944327, -0.27740076, 0.08861396, 0.17933372, 0.08529835, 0.02675153, 0.10011195, -0.08722251, 0.21503541, 0.20347816, 0.19567746, 0.17089121, 0.21961923, -0.09140263, 0.02728153, -0.08147442, 0.12061007, 0.26041976, -0.408941, -0.46300495, 0.44345334, 0.16572055, 0.20062979, 0.05106527, 0.28857398, 0.00588732, -0.30163375, -0.46781304, 0.2623324, 0.3349238, 0.26713872, -0.06239587, -0.16719927, 0.13251805, 0.22603776, 0.04311845, -0.51667184, 0.08867893, -0.04993149, 0.0380978, -0.27240098, -0.01517495, 0.05273203, 0.24317858, 0.04605824, -0.3322025, -0.02048015, 0.2981289, 0.5685772, 0.3946898, -0.3965652, -0.33756322, 0.18326873, 0.5226774, -0.32285535, 0.4309855, -0.1256138, -0.11431652, 0.01374767, 0.17529586, 0.05161145, 0.03379773, -0.01154732, -0.20282674, -0.10810202, -0.07415645, 0.10819992, -0.0509748, 0.08360896, 0.45454147, -0.0941548, 0.47720873, 0.28469798, 0.00239185, 0.07855055, 0.05865923, 0.30520466, -0.04564853, 0.10803211, -0.05500186, 0.27922657, -0.18841656, -0.21916236, 0.5728132, -0.20178252, -0.03479831, 0.23784125, 0.2982407, 0.0673205, -0.10416658, 0.23154846, -0.12927257, 0.34394562, 0.3352212, -0.31051224, -0.1183634, -0.0465892, -0.17851734, -0.15479027, -0.42117143, -0.02820479, 0.22341165, -0.02034586, 0.27255267, -0.01651733, -0.2797769, -0.20279787, 0.29554522, 0.02569528, 0.05834192, 0.10266891, -0.4499682, -0.02737214, 0.24235956, -0.0194609, 0.01028473, -0.2170438, -0.33370227, 0.23753816, 0.14950909, 0.13206491, 0.18194672, -0.05431174, 0.28800005, 0.00399514, 0.34320906, -0.09359848, 0.15718475, -0.1320206, 0.21783997, 0.06758051, 0.21191765, 0.17780459, -0.1877945, -0.3115683, 0.01863844, -0.15081626, -0.01417504, -0.08312609, -0.16404386, 0.39265138, -0.0632319, -0.04189093, 0.15562685, -0.08175696, -0.20212805, -0.0727547, -0.06648625, 0.03916432, 0.09887686, 0.07052827, 0.09512632, 0.02763564, -0.13832006, -0.10627444, 0.11902675, -0.1829495, -0.13832273, 0.04334611, -0.19920187, -0.2680881, -0.0267469, 0.10564885, -0.17202665, 0.44096988, -0.07307353, -0.23493436, 0.05618468, 0.09510197, 0.26580688, -0.10158946, 0.05370683, 0.01132094, 0.21088797, -0.14999957, 0.01309125, 0.2775588, -0.1334792, -0.05499708, 0.02540422, 0.03328719, 0.1442879, 0.01827214, 0.1190924, 0.1280514, 0.25065202, 0.00220019, 0.13182381, -0.39685866, -0.03634079, 0.18016215, -0.10128505, -0.07657252, 0.28193408, 0.08609317, -0.01599337, 0.11771894, -0.06632899, -0.05863078, -0.02446464, -0.15310906, -0.28844616, 0.16667426, -0.17639348, 0.01118541, 0.49347648, 0.08846359, 0.16401078, -0.08756357, -0.16581528, 0.09854814, -0.03419688, 0.4863183, 0.06861667, 0.23223588, -0.14184178, 0.25821236, 0.12619227, 0.32061455, 0.149463, 0.33584577, 0.31567332, 0.02529077, 0.15036814, -0.0468751, -0.04837158, -0.03077548, -0.3080996, -0.0680882, 0.08587153, 0.07730626, -0.15267728, 0.14530139, 0.3311758, 0.1364739, -0.17701134, -0.17081504, 0.19449513, 0.06341569, 0.58347994, 0.1511902, -0.12315075, -0.26059136, 0.31668863, 0.38029584, -0.04683088, 0.1006527, -0.00953858, 0.16086113, -0.08762138, 0.19473542, 0.19144906, -0.36667705, -0.25263923, -0.31519043, 0.319651, 0.09323721, 0.3545694, 0.02426502, -0.11349852, 0.13000454, 0.3465201, -0.11706465, 0.17517482, 0.43223998, -0.06118107, -0.02001291, -0.02115319, -0.5434805, 0.30974913, -0.04167088, 0.00095071, -0.15446845, 0.11380449, -0.1367932, -0.16075605, -0.2200146, -0.06833244, 0.14206623, 0.17603876, -0.02914436, 0.26060832, 0.13083227, -0.3228322, 0.11754864, 0.15793432, 0.16979025, 0.01938014, 0.26049316, -0.04792651, 0.24052833, -0.33614975, 0.1881866, 0.22994049, 0.03667199, -0.00728302, -0.00543378, -0.02889227, -0.06668882, -0.06640516, -0.11819051, 0.03206953, 0.02705724, -0.11844201, 0.11945101, -0.03330095, -0.32259607, 0.15555565, 0.050473, 0.04848597, 0.169772, 0.2560676, -0.05112383, -0.08039263, 0.18387522, -0.23230664, -0.42098442, -0.19977532, 0.14585444, -0.11391255, 0.15771136, -0.18866922, 0.01469201, -0.07547638, 0.25415546, -0.02041862, 0.12144162, -0.13516462, -0.00138891, 0.43606275, 0.0397811, -0.45281228, 0.01755243, 0.00634213, 0.88058937, 0.1064498, 0.1552357, -0.15516376, 0.36136916, -0.21526304, -0.15453213, -0.0557808, 0.11723288, -0.5634093, -0.12241845, 0.12014157, 0.18677907, -0.11319695, -0.06751055, 0.4420651, -0.23151237, 0.26790714, 0.09039211, 0.07227216, -0.50663555, 0.03966398, 0.03838957, -0.00988367, 0.06824127, -0.3035498, 0.23074007, -0.03053893, -0.03398698, -0.2740877, -0.0568459, -0.20837688, 0.17755252, -0.07767, 0.05006073, 0.33302492, 0.05238439, -0.5542329, -0.1452175, 0.11932131, 0.03436298, -0.11362424, 0.05787009, 0.02611108, 0.2466091, -0.19909194, -0.39717355, -0.25432175, 0.050791, 0.30294368, 0.0972783, -0.1758368, 0.2729148, 0.11960967, -0.07692312, 0.32434747, 0.10386459, 0.4716546, -0.24396306, 0.2751905, -0.16021995, 0.09442906, -0.02971367, 0.14419948, -0.33893234, -0.01355081, -0.07366724, 0.06159512, -0.09059164, 0.12708211, 0.3547471, -0.05816594, -0.26473263, -0.07744764, 0.0519599, 0.23810385, 0.24476536, 0.10194065, 0.35098547, 0.06566539, 0.02530357, -0.18338327, 0.17863578, -0.07543696, -0.34154657, 0.19731636, 0.0281339, 0.08255428, -0.00941143, -0.00641225, -0.07811986, -0.07360507, -0.38822904, 0.07671993, 0.19685337, 0.39776778, 0.23414375, -0.34088522, 0.05753696, 0.10988908, -0.1917512, -0.00802611, 0.06019203, 0.66813374, -0.300351, 0.09738515, 0.072667, 0.4081239, -0.01556379, -0.60925436, 0.3075252, 0.2360558, 0.1147314, 0.6061372, -0.13880827, -0.04238503, 0.1840938, 0.11333942, -0.03981886, 0.27391833, 0.00149209, -0.06073647, 0.19892909, 0.07329286, 0.03394916, -0.04604467, 0.22115639, 0.06563166, -0.09523285, -0.11237633, -0.13548258, -0.10927631, 0.1463093, 0.04575384, 0.13332142, -0.00848471, 0.1850181, 0.12826033, -0.04066478, 0.5606844, 0.08417086, 0.01346657, 0.20451, 0.38135615, -0.03229556, -0.03468547, 0.00911753, 0.29714566, 0.02684824, 0.06085203, 0.34084213, 0.07268657, -0.36260796, -0.19299956, 0.05144628, 0.03069796, 0.03632635, -0.09772006, 0.0761544, -0.03453245, -0.05750658, 0.40268803, 0.02934119, 0.21015939, 0.22138952, -0.3467426, 0.2750442, 0.06522854, 0.09492443, -0.10220535, -0.03483552, 0.37875265, 0.24215347, -0.10499758, -0.11893915, -0.07681621, -0.02217148, -0.01374693]}\"] ]"
      ]
     },
     "execution_count": 84,
     "metadata": {},
     "output_type": "execute_result"
    }
   ],
   "source": [
    "search_results = []\n",
    "for r in res[0]: \n",
    "    search_result = client.get(\n",
    "    collection_name=\"bkai_vectordb\",\n",
    "    ids=r['id']\n",
    ")\n",
    "    search_results.append(search_result)\n",
    "\n",
    "search_results"
   ]
  }
 ],
 "metadata": {
  "kernelspec": {
   "display_name": "rag",
   "language": "python",
   "name": "python3"
  },
  "language_info": {
   "codemirror_mode": {
    "name": "ipython",
    "version": 3
   },
   "file_extension": ".py",
   "mimetype": "text/x-python",
   "name": "python",
   "nbconvert_exporter": "python",
   "pygments_lexer": "ipython3",
   "version": "3.12.3"
  }
 },
 "nbformat": 4,
 "nbformat_minor": 2
}
