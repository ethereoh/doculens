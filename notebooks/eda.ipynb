{
 "cells": [
  {
   "cell_type": "code",
   "execution_count": 1,
   "metadata": {},
   "outputs": [],
   "source": [
    "import pandas as pd \n",
    "import numpy as np"
   ]
  },
  {
   "cell_type": "code",
   "execution_count": 2,
   "metadata": {},
   "outputs": [],
   "source": [
    "dataset_root = './db'\n",
    "dataset_dir = {\n",
    "    'corpus': f\"{dataset_root}/corpus.csv\", \n",
    "    'train': f\"{dataset_root}/train.csv\", \n",
    "    'preprocessed': f\"{dataset_root}/preprocessed_train.csv\", \n",
    "    'test': f\"{dataset_root}/public_test.csv\"\n",
    "}"
   ]
  },
  {
   "cell_type": "markdown",
   "metadata": {},
   "source": [
    "# Overview\n",
    "\n",
    "Have a look about the corpus, which we can use to train/finetune or re-direct the output into relevant information. "
   ]
  },
  {
   "cell_type": "code",
   "execution_count": 3,
   "metadata": {},
   "outputs": [
    {
     "data": {
      "text/plain": [
       "Index(['text', 'cid'], dtype='object')"
      ]
     },
     "execution_count": 3,
     "metadata": {},
     "output_type": "execute_result"
    }
   ],
   "source": [
    "corpus_df = pd.read_csv(dataset_dir['corpus'])\n",
    "corpus_df.columns"
   ]
  },
  {
   "cell_type": "code",
   "execution_count": 4,
   "metadata": {},
   "outputs": [
    {
     "data": {
      "text/plain": [
       "pandas.core.frame.DataFrame"
      ]
     },
     "execution_count": 4,
     "metadata": {},
     "output_type": "execute_result"
    }
   ],
   "source": [
    "type(corpus_df.iloc[:10])"
   ]
  },
  {
   "cell_type": "code",
   "execution_count": 5,
   "metadata": {},
   "outputs": [
    {
     "name": "stdout",
     "output_type": "stream",
     "text": [
      "Thông tư này hướng dẫn tuần tra, canh gác bảo vệ đê Điều trong mùa lũ đối với các tuyến đê sông được phân loại, phân cấp theo quy định tại Điều 4 của Luật Đê Điều.\n",
      "==================================================================================================================================\n",
      "1. Hàng năm trước mùa mưa, lũ, Ủy ban nhân dân cấp xã nơi có đê phải tổ chức lực lượng lao động tại địa phương để tuần tra, canh gác đê và thường trực trên các điếm canh đê hoặc nhà dân khu vực gần đê (đối với những khu vực chưa có điếm canh đê), khi có báo động lũ từ cấp I trở lên đối với tuyến sông có đê (sau đây gọi tắt là lực lượng tuần tra, canh gác đê).\n",
      "2. Lực lượng tuần tra, canh gác đê được tổ chức thành các đội, do Ủy ban nhân dân cấp xã ra quyết định thành lập; từ 01 đến 02 kilômét đê thành lập 01 đội; mỗi đội có từ 12 đến 18 người, trong đó có 01 đội trưởng và 01 hoặc 02 đội phó. Danh sách thành viên đội tuần tra, canh gác đê được niêm yết tại điếm canh đê thuộc địa bàn được phân công.\n",
      "3. Khi lũ, bão có diễn biến phức tạp, kéo dài ngày, Uỷ ban nhân dân cấp xã có thể quyết định việc bổ sung thêm thành viên cho đội tuần tra, canh gác đê.\n",
      "==================================================================================================================================\n",
      "Tiêu chuẩn của các thành viên thuộc lực lượng tuần tra, canh gác đê\n",
      "1. Là người khoẻ mạnh, tháo vát, đủ khả năng đảm đương những công việc nặng nhọc, kể cả lúc mưa to, gió lớn, đêm tối.\n",
      "2. Có tinh thần trách nhiệm, chịu đựng gian khổ, khắc phục khó khăn, quen sông nước và biết bơi, có kiến thức, kinh nghiệm hộ đê, phòng, chống lụt, bão.\n",
      "==================================================================================================================================\n",
      "Nhiệm vụ của lực lượng tuần tra, canh gác đê\n",
      "1. Chấp hành sự phân công của Ban chỉ huy phòng, chống lụt, bão các cấp và chịu sự hướng dẫn về chuyên môn nghiệp vụ của cơ quan chuyên trách quản lý đê Điều.\n",
      "2. Tuần tra, canh gác và thường trực trên các điếm canh đê, khi có báo động lũ từ cấp I trở lên đối với tuyến sông có đê. Theo dõi diễn biến của đê Điều; phát hiện kịp thời những hư hỏng của đê Điều và báo cáo ngay cho Ban chỉ huy chống lụt bão xã, cán bộ chuyên trách quản lý đê Điều phụ trách tuyến đê đó và khẩn trương tiến hành xử lý giờ đầu theo đúng kỹ thuật đã được hướng dẫn.\n",
      "3. Tham gia xử lý sự cố và tu sửa kịp thời những hư hỏng của đê Điều, dưới sự hướng dẫn về kỹ thuật của cán bộ chuyên trách quản lý đê Điều hoặc ý kiến chỉ đạo của cấp trên.\n",
      "4. Canh gác, kiểm tra phát hiện và ngăn chặn kịp thời những hành vi vi phạm pháp Luật về đê Điều và phòng, chống lụt, bão và báo cáo ngay cán bộ chuyên trách quản lý đê Điều.\n",
      "5. Đeo phù hiệu khi làm nhiệm vụ.\n",
      "==================================================================================================================================\n",
      "Phù hiệu của lực lượng tuần tra, canh gác đê\n",
      "Phù hiệu của lực lượng tuần tra, canh gác đê là một băng đỏ rộng 10cm, có ký hiệu “KTĐ” màu vàng.\n",
      "Phù hiệu được đeo trên khuỷu tay áo bên trái, chữ “KTĐ” hướng ra phía ngoài.\n",
      "==================================================================================================================================\n",
      "1. Lực lượng tuần tra, canh gác đê được trang bị:\n",
      "- Dụng cụ thông tin, liên lạc, phương tiện phục vụ công tác tuần tra, canh gác đê; dụng cụ ứng cứu như đèn, đuốc, mai, cuốc, xẻng, đầm, vồ… và các dụng cụ cần thiết khác phù hợp với từng địa phương;\n",
      "- Sổ sách để ghi chép tình hình diễn biến của đê, kè bảo vệ đê, cống qua đê, công trình quản lý khác; tiếp nhận chỉ thị, nhận xét của cấp trên, phân công, bố trí người tuần tra, canh gác hàng ngày.\n",
      "2. Số lượng dụng cụ, sổ sách tối thiểu được trang bị cho mỗi đội tuần tra, canh gác đê như sau:\n",
      "a) Về dụng cụ:\n",
      "- Áo phao:                                             06 cái;\n",
      "- Áo đi mưa:                                          18 cái;\n",
      "- Xe cải tiến:                                          02 chiếc;\n",
      "- Quang gánh :                                       10 đôi;\n",
      "- Xẻng:                                                  06 cái;\n",
      "- Cuốc:                                                  06 cái;\n",
      "- Mai đào đất:                                        02 cái;\n",
      "- Xè beng:                                              01 cái;\n",
      "- Dao:                                                   10 con;\n",
      "- Vồ:                                                     05 cái;\n",
      "- Đèn bão:                                             05 cái;\n",
      "- Đèn ắc quy hoặc đèn pin:                     05 cái;\n",
      "- Trống hoặc kẻng:                                 01 cái;\n",
      "- Biển tín hiệu báo động lũ:                     01 bộ;\n",
      "- Đèn tín hiệu báo động lũ:                      01 bộ;\n",
      "- Tiêu, bảng báo hiệu hư hỏng:                20 cái;\n",
      "- Dầu hỏa:                                             10 lít.\n",
      "b) Về sổ sách:\n",
      "- Sổ ghi danh sách, phân công người tuần tra canh gác theo từng ca, kíp trong ngày; ghi chỉ thị, ý kiến của cấp trên và những nội dung đã báo cáo với cấp trên trong ngày.\n",
      "- Sổ nhật ký ghi chép diễn biến của đê, kè bảo vệ đê, cống qua đê và công trình quản lý khác;\n",
      "Những sổ sách trên phải giữ gìn cẩn thận, ghi chép rõ ràng và thường xuyên để ở trụ sở của đội (điếm canh đê hoặc nhà dân khu vực gần đê - đối với những khu vực chưa có điếm canh đê); nếu không có lệnh của đội trưởng thì không được mang sổ sách đi nơi khác.\n",
      "c) Dụng cụ, sổ sách trên được để tại trụ sở của đội và được bàn giao giữa các kíp trực.\n",
      "3. Kinh phí mua sắm dụng cụ, sổ sách quy định tại khoản 2 của Điều này lấy trong quỹ phòng, chống lụt, bão hoặc ngân sách hàng năm của địa phương.\n",
      "4. Ủy ban nhân dân cấp huyện có đê, trước mùa lũ chịu trách nhiệm mua sắm dụng cụ, sổ sách quy định tại khoản 2 Điều này để cấp cho các đội tuần tra, canh gác đê.\n",
      "5. Sau mùa lũ, đội trưởng các đội tuần tra, canh gác đê có trách nhiệm tổng hợp, thống kê và trao trả số dụng cụ quy định tại điểm a khoản 2 Điều này để bảo quản theo hướng dẫn của Ủy ban nhân dân cấp huyện.\n",
      "6. Các loại sổ sách quy định tại điểm b khoản 2 Điều này, đội trưởng đội tuần tra, canh gác đê có trách nhiệm bàn giao cho đội chuyên trách quản lý đê Điều để xử lý và bảo quản.\n",
      "7. Việc giao nhận các dụng cụ và sổ sách trên đây phải được lập biên bản để quản lý, theo dõi.\n",
      "==================================================================================================================================\n",
      "1. Khi báo động lũ ở cấp I trở lên, đội tuần tra, canh gác đê phải báo tín hiệu cấp báo động lũ tại các điếm canh đê, như sau:\n",
      "a) - Báo động lũ ở cấp I: 01 đèn màu xanh (ban ngày có thể bổ sung 01 biển hoặc cờ, hình tam giác màu đỏ để dễ nhận biết);\n",
      "- Báo động lũ ở cấp II:    02 đèn màu xanh (ban ngày có thể bổ sung 02 biển hoặc cờ, hình tam giác màu đỏ để dễ nhận biết);\n",
      "- Báo động lũ ở cấp III: 03 đèn màu xanh (ban ngày có thể bổ sung 03 biển hoặc cờ, hình tam giác màu đỏ để dễ nhận biết).\n",
      "b) Các biển (hoặc cờ), đèn báo hiệu được treo theo chiều dọc, với chiều cao thích hợp để mọi người trong khu vực nhìn thấy được.\n",
      "2. Trường hợp khẩn cấp xảy ra sự cố nguy hiểm đe dọa đến an toàn của đê Điều, cần phải huy động lực lượng ứng cứu thì đội trưởng hoặc đội phó của đội tuần tra, canh gác đê cho đánh trống (hoặc kẻng) liên hồi để báo động.\n",
      "==================================================================================================================================\n",
      "1. Báo động lũ ở cấp I:\n",
      "Bố trí ngày 02 người, đêm 04 người. Ban ngày ít nhất sau 04 giờ có 01 kíp đi tuần, mỗi kíp có 01 người. Ban đêm ít nhất sau 04 giờ có 01 kíp đi tuần, mỗi kíp 02 người.\n",
      "2. Báo động lũ ở cấp II:\n",
      "a) Bố trí ngày 04 người, đêm 06 người. Ban ngày ít nhất sau 02 giờ có 01 kíp đi tuần, mỗi kíp 02 người. Ban đêm ít nhất sau 02 giờ có 01 kíp đi tuần, mỗi kíp 03 người;\n",
      "b) Trường hợp có tin bão khẩn cấp đổ bộ vào khu vực: bố trí ngày 06 người, đêm 12 người, chia thành các kíp, mỗi kíp 03 người; tùy theo diễn biến của bão, lũ và đặc điểm của tuyến đê, Ban chỉ huy phòng, chống lụt, bão cấp xã quyết định việc tăng cường số lần kiểm tra so với quy định tại điểm a khoản 2 Điều này.\n",
      "3. Báo động lũ ở cấp III trở lên:\n",
      "a) Bố trí ngày 06 người, đêm 12 người, chia thành các kíp, mỗi kíp 03 người, không phân biệt ngày đêm các kíp phải liên tục thay phiên nhau kiểm tra;\n",
      "b) Đối với các vị trí xung yếu của đê, kè bảo vệ đê, cống qua đê, bố trí thêm lực lượng để kiểm tra, phát hiện sự cố và báo cáo kịp thời.\n",
      "==================================================================================================================================\n",
      "1. Phạm vi tuần tra:\n",
      "a) Báo động lũ ở cấp I, bố trí người tuần tra như sau:\n",
      "- Lượt đi: 01 người (ban ngày), 02 người (ban đêm) kiểm tra mặt đê, mái đê phía sông, khu vực hành lang bảo vệ đê phía sông;\n",
      "- Lượt về: 01 người (ban ngày), 02 người (ban đêm) kiểm tra mái đê phía đồng, khu vực hành lang bảo vệ đê phía đồng, mặt ruộng, hồ ao gần chân đê phía đồng;\n",
      "b) Báo động lũ ở cấp II, bố trí người tuần tra như sau:\n",
      "- Lượt đi: 01 người kiểm tra mặt đê, mái đê phía sông, khu vực hành lang bảo vệ đê phía sông; 01 người (ban ngày), 02 người (ban đêm) kiểm tra mái đê phía đồng, khu vực hành lang bảo vệ đê phía đồng, mặt ruộng, hồ ao gần chân đê phía đồng;\n",
      "- Lượt về: 01 người (ban ngày), 02 người (ban đêm) kiểm tra mặt đê, mái đê phía sông, khu vực hành lang bảo vệ đê phía sông; 01 người kiểm tra mái đê phía đồng, khu vực hành lang bảo vệ đê phía đồng, mặt ruộng, hồ ao gần chân đê phía đồng;\n",
      "c) Báo động lũ ở cấp II và có tin bão khẩn cấp đổ bộ vào khu vực hoặc báo động lũ ở cấp III trở lên, bố trí người tuần tra như sau:\n",
      "- Lượt đi: 02 người kiểm tra mái đê, khu vực hành lang bảo vệ đê phía đồng, mặt ruộng, hồ ao gần chân đê phía đồng; 01 người kiểm tra mặt đê.\n",
      "- Lượt về: 02 người kiểm tra phía đồng; 01 người kiểm tra mặt đê, mái đê và khu vực hành lang bảo vệ đê phía sông.\n",
      "d) Mỗi kíp tuần tra phải kiểm tra vượt quá phạm vi phụ trách về hai phía, mỗi phía 50m. Đối với những khu vực đã từng xảy ra sự cố hư hỏng, phải kiểm tra quan sát rộng hơn để phát hiện sự cố.\n",
      "2. Người tuần tra, canh gác phải phát hiện kịp thời những hư hỏng của đê.\n",
      "3. Khi phát hiện có hư hỏng, người tuần tra phải tiến hành các công việc sau:\n",
      "a) Xác định loại hư hỏng, vị trí, đặc điểm, kích thước của loại hư hỏng;\n",
      "b) Xác định mực nước sông so với mặt đê tại vị trí phát sinh hư hỏng;\n",
      "c) Đánh dấu bằng cách ghi bảng, cắm tiêu báo hiệu vị trí hư hỏng; nếu sự cố nghiêm trọng, phải cấm người, vật, xe cơ giới đi qua và bố trí người canh gác tại chỗ để theo dõi thường xuyên diễn biến của hư hỏng;\n",
      "d) Báo cáo kịp thời và cụ thể tình hình hư hỏng cho đội trưởng hoặc đội phó, cán bộ chuyên trách quản lý đê Điều và Ban Chỉ huy phòng, chống lụt, bão xã.\n",
      "==================================================================================================================================\n",
      "1. Khi lũ ở báo động I trở lên, đội tuần tra, canh gác đê phải phân công người theo dõi chặt chẽ diễn biến của các cống qua đê, ngăn chặn kịp thời những hành vi sử dụng cống trái phép trong mùa lũ.\n",
      "2. Người tuần tra, canh gác phải kiểm tra kỹ phần tiếp giáp giữa thân cống, tường cánh gà của cống với đê; cánh cống, bộ phận đóng mở cánh cống, cửa cống, thân cống và khu vực thượng, hạ lưu cống để phát hiện kịp thời những sự cố xảy ra.\n",
      "3. Khi phát hiện có hư hỏng của cống, người tuần tra, canh gác phải tiến hành các công việc như đối với quy định tại khoản 3 Điều 9 của Thông tư này.\n",
      "==================================================================================================================================\n"
     ]
    }
   ],
   "source": [
    "for idx in range(10): \n",
    "    row = corpus_df.iloc[idx]\n",
    "    print(row['text'])\n",
    "    print(\"=============\"*10)"
   ]
  },
  {
   "cell_type": "code",
   "execution_count": 6,
   "metadata": {},
   "outputs": [
    {
     "data": {
      "text/plain": [
       "Index(['question', 'qid'], dtype='object')"
      ]
     },
     "execution_count": 6,
     "metadata": {},
     "output_type": "execute_result"
    }
   ],
   "source": [
    "test_df = pd.read_csv(dataset_dir['test'])\n",
    "test_df.columns"
   ]
  },
  {
   "cell_type": "code",
   "execution_count": 12,
   "metadata": {},
   "outputs": [
    {
     "name": "stdout",
     "output_type": "stream",
     "text": [
      "10000\n"
     ]
    }
   ],
   "source": [
    "print(len(test_df))"
   ]
  },
  {
   "cell_type": "code",
   "execution_count": 7,
   "metadata": {},
   "outputs": [
    {
     "name": "stdout",
     "output_type": "stream",
     "text": [
      "Hiệp hội Công nghiệp ghi âm Việt Nam hoạt động trong những lĩnh vực nào?\n",
      "==================================================================================================================================\n",
      "Báo cáo nghiên cứu khả thi đầu tư xây dựng là tài liệu trình bày về các nội dung gì?\n",
      "==================================================================================================================================\n",
      "Lịch khai giảng năm học 2022 - 2023 đối với học sinh giáo dục mầm non, giáo dục phổ thông và giáo dục thường xuyên là khi nào?\n",
      "==================================================================================================================================\n",
      "Số định danh cá nhân có được dùng thay thế các giấy tờ liên quan đến nhân thân khi thực hiện các thủ tục liên quan đến nhà ở không?\n",
      "==================================================================================================================================\n",
      "Trợ cấp đối với Chủ tịch Hội cựu chiến binh cấp xã nghỉ hưu, thôi làm công tác Hội được tính thế nào?\n",
      "==================================================================================================================================\n",
      "Mẫu đơn ủy quyền nhận trợ cấp thất nghiệp theo quy định là mẫu gì?\n",
      "==================================================================================================================================\n",
      "Sĩ quan quân đội có được nghỉ phép hàng tuần hay không?\n",
      "==================================================================================================================================\n",
      "Cây xăng có được phép tuyển lao động nữ mang thai vào làm công việc bán lẻ xăng dầu tại đây không?\n",
      "==================================================================================================================================\n",
      "Nguồn kinh phí chi trả mức phụ cấp ưu đãi nghề đối với công chức quản lý, phục vụ không trực tiếp làm chuyên môn y tế tại trung tâm giải phẫu bệnh lý từ đâu?\n",
      "==================================================================================================================================\n",
      "Khi thi nâng ngạch lên kế toán viên trung cấp thì công chức cần phải thi những nội dung nào? Thời gian thi là bao lâu?\n",
      "==================================================================================================================================\n"
     ]
    }
   ],
   "source": [
    "for idx in range(10): \n",
    "    row = test_df.iloc[idx]\n",
    "    print(row['question'])\n",
    "    print(\"=============\"*10)"
   ]
  },
  {
   "cell_type": "markdown",
   "metadata": {},
   "source": [
    "# Look at train dataset"
   ]
  },
  {
   "cell_type": "code",
   "execution_count": 8,
   "metadata": {},
   "outputs": [
    {
     "name": "stdout",
     "output_type": "stream",
     "text": [
      "Index(['question', 'context', 'cid', 'qid'], dtype='object')\n",
      "Index(['question', 'context', 'cid', 'qid'], dtype='object')\n"
     ]
    }
   ],
   "source": [
    "train_df = pd.read_csv(dataset_dir['train'])\n",
    "prc_train_df = pd.read_csv(dataset_dir['preprocessed'])\n",
    "\n",
    "\n",
    "print(train_df.columns)\n",
    "print(prc_train_df.columns)"
   ]
  },
  {
   "cell_type": "code",
   "execution_count": 11,
   "metadata": {},
   "outputs": [
    {
     "name": "stdout",
     "output_type": "stream",
     "text": [
      "Question: 161615\n",
      "Context: [62492]\n",
      "==================================================================================================================================\n",
      "Question: 80037\n",
      "Context: [151154]\n",
      "==================================================================================================================================\n",
      "Question: 124074\n",
      "Context: [75071]\n",
      "==================================================================================================================================\n",
      "Question: 146841\n",
      "Context: [225897]\n",
      "==================================================================================================================================\n",
      "Question: 6176\n",
      "Context: [68365]\n",
      "==================================================================================================================================\n"
     ]
    }
   ],
   "source": [
    "for idx in range(5): \n",
    "    row = train_df.iloc[idx]\n",
    "    print(f\"Question: {row['qid']}\\nContext: {row['cid']}\")\n",
    "    print(\"=============\"*10)"
   ]
  },
  {
   "cell_type": "code",
   "execution_count": 9,
   "metadata": {},
   "outputs": [
    {
     "name": "stdout",
     "output_type": "stream",
     "text": [
      "Question: Người học ngành quản lý khai thác công trình thủy lợi trình độ cao đẳng phải có khả năng học tập và nâng cao trình độ như thế nào?\n",
      "Context: ['Khả năng học tập, nâng cao trình độ\\n- Khối lượng kiến thức tối thiểu, yêu cầu về năng lực mà người học phải đạt được sau khi tốt nghiệp ngành, nghề quản lý, khai thác các công trình thủy lợi, trình độ cao đẳng có thể tiếp tục phát triển ở các trình độ cao hơn;\\n- Người học sau tốt nghiệp có năng lực tự học, tự cập nhật những tiến bộ khoa học công nghệ trong phạm vi ngành, nghề để nâng cao trình độ hoặc học liên thông lên trình độ cao hơn trong cùng ngành, nghề hoặc trong nhóm ngành, nghề hoặc trong cùng lĩnh vực đào tạo./.']\n",
      "==================================================================================================================================\n",
      "Question: Nội dung lồng ghép vấn đề bình đẳng giới trong xây dựng văn bản quy phạm pháp luật được quy định thế nào?\n",
      "Context: ['Nội dung lồng ghép vấn đề bình đẳng giới trong xây dựng văn bản quy phạm pháp luật\\nTrong phạm vi điều chỉnh của văn bản quy phạm pháp luật:\\n1. Xác định nội dung liên quan đến vấn đề bình đẳng giới hoặc vấn đề bất bình đẳng giới, phân biệt đối xử về giới.\\n2. Quy định các biện pháp cần thiết để thực hiện bình đẳng giới hoặc để giải quyết vấn đề bất bình đẳng giới, phân biệt đối xử về giới; dự báo tác động của các quy định đó đối với nam và nữ sau khi được ban hành.\\n3. Xác định nguồn nhân lực, tài chính cần thiết để triển khai các biện pháp thực hiện bình đẳng giới hoặc để giải quyết vấn đề bất bình đẳng giới, phân biệt đối xử về giới.']\n",
      "==================================================================================================================================\n",
      "Question: Sản phẩm phần mềm có được hưởng ưu đãi về thời gian miễn thuế, giảm thuế hay không? Nếu được thì trong vòng bao nhiêu năm?\n",
      "Context: ['\"Điều 20. Ưu đãi về thời gian miễn thuế, giảm thuế\\n1. Miễn thuế bốn năm, giảm 50% số thuế phải nộp trong chín năm tiếp theo đối với:\\na) Thu nhập của doanh nghiệp từ thực hiện dự án đầu tư quy định tại khoản 1 Điều 19 Thông tư số 78/2014/TT-BTC (được sửa đổi, bổ sung tại Khoản 1 Điều 11 Thông tư này).\" ']\n",
      "==================================================================================================================================\n",
      "Question: Điều kiện để giáo viên trong cơ sở giáo dục mầm non, tiểu học ngoài công lập bị ảnh hưởng bởi Covid-19 được hưởng chính sách hỗ trợ là gì?\n",
      "Context: ['Điều kiện được hưởng\\nCán bộ quản lý, giáo viên, nhân viên được hưởng chính sách khi bảo đảm các điều kiện sau:\\n1. Là người đang làm việc tại cơ sở giáo dục ngoài công lập trước khi cơ sở phải tạm dừng hoạt động theo yêu cầu của cơ quan nhà nước có thẩm quyền để phòng, chống dịch COVID-19 tính từ ngày 01 tháng 5 năm 2021 đến hết ngày 31 tháng 12 năm 2021.\\n2. Nghỉ việc không hưởng lương từ 01 tháng trở lên tính từ ngày 01 tháng 5 năm 2021 đến hết ngày 31 tháng 12 năm 2021.\\n3. Chưa được hưởng chính sách hỗ trợ đối với người lao động tạm hoãn hợp đồng lao động, nghỉ việc không hưởng lương theo quy định tại khoản 4, khoản 5, khoản 6 Mục II Nghị quyết số 68/NQ-CP ngày 01 tháng 7 năm 2021 của Chính phủ về một số chính sách hỗ trợ người lao động và người sử dụng lao động gặp khó khăn do đại dịch COVID-19, Nghị quyết số 126/NQ-CP ngày 08 tháng 10 năm 2021 của Chính phủ sửa đổi, bổ sung Nghị quyết số 68/NQ-CP ngày 01 tháng 7 năm 2021 của Chính phủ về một số chính sách hỗ trợ người lao động và người sử dụng lao động gặp khó khăn do đại dịch COVID-19 (sau đây gọi tắt là Nghị quyết số 68/NQ-CP) do không tham gia Bảo hiểm xã hội bắt buộc.\\n4. Có xác nhận làm việc tại cơ sở giáo dục ngoài công lập ít nhất hết năm học 2021 - 2022 theo kế hoạch năm học của địa phương, bao gồm cơ sở giáo dục ngoài công lập đã làm việc trước đây hoặc cơ sở giáo dục ngoài công lập khác trong trường hợp cơ sở giáo dục ngoài công lập trước đây làm việc không hoạt động trở lại.']\n",
      "==================================================================================================================================\n",
      "Question: Nguyên tắc áp dụng phụ cấp ưu đãi nghề y tế thế nào?\n",
      "Context: ['Nguyên tắc áp dụng\\n1. Trường hợp công chức, viên chức chuyên môn y tế thuộc đối tượng được hưởng các mức phụ cấp ưu đãi theo nghề khác nhau thì được hưởng một mức phụ cấp ưu đãi theo nghề cao nhất.\\n2. Công chức, viên chức đã hưởng phụ cấp ưu đãi theo nghề quy định tại Thông tư liên tịch số 06/2010/TTLT-BYT-BNV-BTC ngày 22/3/2010 của Bộ Y tế, Bộ Nội vụ, Bộ Tài chính hướng dẫn thực hiện Nghị định số 64/2009/NĐ-CP ngày 30/7/2009 của Chính phủ về chính sách đối với cán bộ, viên chức y tế công tác ở vùng có điều kiện kinh tế - xã hội đặc biệt khó khăn thì không hưởng phụ cấp ưu đãi theo nghề quy định tại Thông tư liên tịch này.']\n",
      "==================================================================================================================================\n"
     ]
    }
   ],
   "source": [
    "for idx in range(5): \n",
    "    row = train_df.iloc[idx]\n",
    "    print(f\"Question: {row['question']}\\nContext: {row['context']}\")\n",
    "    print(\"=============\"*10)"
   ]
  },
  {
   "cell_type": "code",
   "execution_count": 10,
   "metadata": {},
   "outputs": [
    {
     "name": "stdout",
     "output_type": "stream",
     "text": [
      "Question: Người học ngành quản lý khai thác công trình thủy lợi trình độ cao đẳng phải có khả năng học tập và nâng cao trình độ như thế nào?\n",
      "Context: Khả năng học tập, nâng cao trình độ\\n- Khối lượng kiến thức tối thiểu, yêu cầu về năng lực mà người học phải đạt được sau khi tốt nghiệp ngành, nghề quản lý, khai thác các công trình thủy lợi, trình độ cao đẳng có thể tiếp tục phát triển ở các trình độ cao hơn;\\n- Người học sau tốt nghiệp có năng lực tự học, tự cập nhật những tiến bộ khoa học công nghệ trong phạm vi ngành, nghề để nâng cao trình độ hoặc học liên thông lên trình độ cao hơn trong cùng ngành, nghề hoặc trong nhóm ngành, nghề hoặc trong cùng lĩnh vực đào tạo./.\n",
      "==================================================================================================================================\n",
      "Question: Nội dung lồng ghép vấn đề bình đẳng giới trong xây dựng văn bản quy phạm pháp luật được quy định thế nào?\n",
      "Context: Nội dung lồng ghép vấn đề bình đẳng giới trong xây dựng văn bản quy phạm pháp luật\\nTrong phạm vi điều chỉnh của văn bản quy phạm pháp luật:\\n1. Xác định nội dung liên quan đến vấn đề bình đẳng giới hoặc vấn đề bất bình đẳng giới, phân biệt đối xử về giới.\\n2. Quy định các biện pháp cần thiết để thực hiện bình đẳng giới hoặc để giải quyết vấn đề bất bình đẳng giới, phân biệt đối xử về giới; dự báo tác động của các quy định đó đối với nam và nữ sau khi được ban hành.\\n3. Xác định nguồn nhân lực, tài chính cần thiết để triển khai các biện pháp thực hiện bình đẳng giới hoặc để giải quyết vấn đề bất bình đẳng giới, phân biệt đối xử về giới.\n",
      "==================================================================================================================================\n",
      "Question: Sản phẩm phần mềm có được hưởng ưu đãi về thời gian miễn thuế, giảm thuế hay không? Nếu được thì trong vòng bao nhiêu năm?\n",
      "Context: Điều 20. Ưu đãi về thời gian miễn thuế, giảm thuế\\n1. Miễn thuế bốn năm, giảm 50% số thuế phải nộp trong chín năm tiếp theo đối với:\\na) Thu nhập của doanh nghiệp từ thực hiện dự án đầu tư quy định tại khoản 1 Điều 19 Thông tư số 78/2014/TT-BTC (được sửa đổi, bổ sung tại Khoản 1 Điều 11 Thông tư này).\n",
      "==================================================================================================================================\n",
      "Question: Điều kiện để giáo viên trong cơ sở giáo dục mầm non, tiểu học ngoài công lập bị ảnh hưởng bởi Covid-19 được hưởng chính sách hỗ trợ là gì?\n",
      "Context: Điều kiện được hưởng\\nCán bộ quản lý, giáo viên, nhân viên được hưởng chính sách khi bảo đảm các điều kiện sau:\\n1. Là người đang làm việc tại cơ sở giáo dục ngoài công lập trước khi cơ sở phải tạm dừng hoạt động theo yêu cầu của cơ quan nhà nước có thẩm quyền để phòng, chống dịch COVID-19 tính từ ngày 01 tháng 5 năm 2021 đến hết ngày 31 tháng 12 năm 2021.\\n2. Nghỉ việc không hưởng lương từ 01 tháng trở lên tính từ ngày 01 tháng 5 năm 2021 đến hết ngày 31 tháng 12 năm 2021.\\n3. Chưa được hưởng chính sách hỗ trợ đối với người lao động tạm hoãn hợp đồng lao động, nghỉ việc không hưởng lương theo quy định tại khoản 4, khoản 5, khoản 6 Mục II Nghị quyết số 68/NQ-CP ngày 01 tháng 7 năm 2021 của Chính phủ về một số chính sách hỗ trợ người lao động và người sử dụng lao động gặp khó khăn do đại dịch COVID-19, Nghị quyết số 126/NQ-CP ngày 08 tháng 10 năm 2021 của Chính phủ sửa đổi, bổ sung Nghị quyết số 68/NQ-CP ngày 01 tháng 7 năm 2021 của Chính phủ về một số chính sách hỗ trợ người lao động và người sử dụng lao động gặp khó khăn do đại dịch COVID-19 (sau đây gọi tắt là Nghị quyết số 68/NQ-CP) do không tham gia Bảo hiểm xã hội bắt buộc.\\n4. Có xác nhận làm việc tại cơ sở giáo dục ngoài công lập ít nhất hết năm học 2021 - 2022 theo kế hoạch năm học của địa phương, bao gồm cơ sở giáo dục ngoài công lập đã làm việc trước đây hoặc cơ sở giáo dục ngoài công lập khác trong trường hợp cơ sở giáo dục ngoài công lập trước đây làm việc không hoạt động trở lại.\n",
      "==================================================================================================================================\n",
      "Question: Nguyên tắc áp dụng phụ cấp ưu đãi nghề y tế thế nào?\n",
      "Context: Nguyên tắc áp dụng\\n1. Trường hợp công chức, viên chức chuyên môn y tế thuộc đối tượng được hưởng các mức phụ cấp ưu đãi theo nghề khác nhau thì được hưởng một mức phụ cấp ưu đãi theo nghề cao nhất.\\n2. Công chức, viên chức đã hưởng phụ cấp ưu đãi theo nghề quy định tại Thông tư liên tịch số 06/2010/TTLT-BYT-BNV-BTC ngày 22/3/2010 của Bộ Y tế, Bộ Nội vụ, Bộ Tài chính hướng dẫn thực hiện Nghị định số 64/2009/NĐ-CP ngày 30/7/2009 của Chính phủ về chính sách đối với cán bộ, viên chức y tế công tác ở vùng có điều kiện kinh tế - xã hội đặc biệt khó khăn thì không hưởng phụ cấp ưu đãi theo nghề quy định tại Thông tư liên tịch này.\n",
      "==================================================================================================================================\n"
     ]
    }
   ],
   "source": [
    "for idx in range(5): \n",
    "    row = prc_train_df.iloc[idx]\n",
    "    print(f\"Question: {row['question']}\\nContext: {row['context']}\")\n",
    "    print(\"=============\"*10)"
   ]
  }
 ],
 "metadata": {
  "kernelspec": {
   "display_name": "rag",
   "language": "python",
   "name": "python3"
  },
  "language_info": {
   "codemirror_mode": {
    "name": "ipython",
    "version": 3
   },
   "file_extension": ".py",
   "mimetype": "text/x-python",
   "name": "python",
   "nbconvert_exporter": "python",
   "pygments_lexer": "ipython3",
   "version": "3.12.3"
  }
 },
 "nbformat": 4,
 "nbformat_minor": 2
}
